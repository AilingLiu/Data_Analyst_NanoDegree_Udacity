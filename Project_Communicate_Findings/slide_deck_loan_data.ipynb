{
 "cells": [
  {
   "cell_type": "markdown",
   "metadata": {
    "slideshow": {
     "slide_type": "slide"
    }
   },
   "source": [
    "# Loan Data from Prosper\n",
    "## by Ailing Liu"
   ]
  },
  {
   "cell_type": "markdown",
   "metadata": {
    "slideshow": {
     "slide_type": "slide"
    }
   },
   "source": [
    "## Investigation Overview\n",
    "\n",
    "This project is reasearching on the possible features that affect the borrower’s APR or interest rate.\n",
    "\n",
    "The Prosper Score is expected to have negative relation with ARP, because higher rating reflects borrower's good credit history or lower risk. When borrower has strong credibility, the interest rate is low. Additionally, other factors such as borrower's occupation, origional load amount, contract term, monthly income may also affect their APR.\n",
    "\n",
    "## Dataset Overview\n",
    "\n",
    "This data set is downloaded from Udacity. Originally it was from Prosper, America’s first marketplace lending platform, with over $9 billion in funded loans. "
   ]
  },
  {
   "cell_type": "markdown",
   "metadata": {
    "slideshow": {
     "slide_type": "slide"
    }
   },
   "source": [
    "## Univariate Exploration\n",
    "\n",
    "- main variable of interest: borrower APR"
   ]
  },
  {
   "cell_type": "markdown",
   "metadata": {
    "slideshow": {
     "slide_type": "slide"
    }
   },
   "source": [
    "![](IMAGE/Borrower_APR.png)"
   ]
  },
  {
   "cell_type": "markdown",
   "metadata": {
    "slideshow": {
     "slide_type": "subslide"
    }
   },
   "source": [
    "The distribution of APR looks normal except for a starggering peak round 0.35 to 0.37. A large peak centered at 0.2. Only very few loans have APR greater than 0.43."
   ]
  },
  {
   "cell_type": "markdown",
   "metadata": {
    "slideshow": {
     "slide_type": "slide"
    }
   },
   "source": [
    "- Prosper Score"
   ]
  },
  {
   "cell_type": "markdown",
   "metadata": {
    "slideshow": {
     "slide_type": "slide"
    }
   },
   "source": [
    "![](IMAGE/Prosper_Score.png)"
   ]
  },
  {
   "cell_type": "markdown",
   "metadata": {
    "slideshow": {
     "slide_type": "subslide"
    }
   },
   "source": [
    "Majority of the prosper scores range from 4 to 8. In particular, the most popular scores are 4, 6, 8. "
   ]
  },
  {
   "cell_type": "markdown",
   "metadata": {
    "slideshow": {
     "slide_type": "slide"
    }
   },
   "source": [
    "* Monthly Income"
   ]
  },
  {
   "cell_type": "markdown",
   "metadata": {
    "slideshow": {
     "slide_type": "slide"
    }
   },
   "source": [
    "![](IMAGE/Monthly_Income.png)"
   ]
  },
  {
   "cell_type": "markdown",
   "metadata": {
    "slideshow": {
     "slide_type": "subslide"
    }
   },
   "source": [
    "The distribution of stated monthly income is highly screwed to the right, with most of stated monthly income less than 25k. A large number of outliers are seen in the upper range."
   ]
  },
  {
   "cell_type": "markdown",
   "metadata": {
    "slideshow": {
     "slide_type": "slide"
    }
   },
   "source": [
    "## Bivariate Exploration"
   ]
  },
  {
   "cell_type": "markdown",
   "metadata": {
    "slideshow": {
     "slide_type": "slide"
    }
   },
   "source": [
    "* BorrowerAPR vs. ProsperScore"
   ]
  },
  {
   "cell_type": "markdown",
   "metadata": {
    "slideshow": {
     "slide_type": "slide"
    }
   },
   "source": [
    "![](IMAGE/Heatmap_APR_VS_ProsScore.png)"
   ]
  },
  {
   "cell_type": "markdown",
   "metadata": {
    "slideshow": {
     "slide_type": "subslide"
    }
   },
   "source": [
    "The largest correlation pair is the borrower APR and prosper score, with negative correlation coefficient of -0.668. It matches our assumption that the higher the prosper score, the lower risk the candidate, hence the lower interest rate. The scatter plot showed those two variables are negatively correlated."
   ]
  },
  {
   "cell_type": "markdown",
   "metadata": {
    "slideshow": {
     "slide_type": "slide"
    }
   },
   "source": [
    "* Prosper Rating vs. BorrowerRate"
   ]
  },
  {
   "cell_type": "markdown",
   "metadata": {
    "slideshow": {
     "slide_type": "slide"
    }
   },
   "source": [
    "![](IMAGE/Prosper_Score_and_Rating_vs_APR.png)"
   ]
  },
  {
   "cell_type": "markdown",
   "metadata": {
    "slideshow": {
     "slide_type": "subslide"
    }
   },
   "source": [
    "The plot shows strong correlation among prosper rating vs borrower's rate, prosper score vs borrower’s rate. The prsper rating is similar to the prosper score, except that it is represented in alphabet instead of numerical value. According to the provided data description:\n",
    "\n",
    "> \"0 - N/A, 1 - HR, 2 - E, 3 - D, 4 - C, 5 - B, 6 - A, 7 - AA.  Applicable for loans originated after July 2009\"\n",
    "\n",
    "We can see that the lower the rating goes, the higher borrower's rate. This pattern is aligned with the prosper score boxplot on the right."
   ]
  },
  {
   "cell_type": "markdown",
   "metadata": {
    "slideshow": {
     "slide_type": "slide"
    }
   },
   "source": [
    "## Multivariate Exploration"
   ]
  },
  {
   "cell_type": "markdown",
   "metadata": {
    "slideshow": {
     "slide_type": "slide"
    }
   },
   "source": [
    "* Borrower APR across rating and term"
   ]
  },
  {
   "cell_type": "markdown",
   "metadata": {
    "slideshow": {
     "slide_type": "slide"
    }
   },
   "source": [
    "![](IMAGE/Borrower_APR_across_rating_and_term.png)"
   ]
  },
  {
   "cell_type": "markdown",
   "metadata": {
    "slideshow": {
     "slide_type": "subslide"
    }
   },
   "source": [
    "Above point plot shows borrower APR perentage decrease along with the increase of prosper rating (AA is the largest rating). \n",
    "\n",
    "Within each rating, we can see three vertical lines, representing three term durations. From rating HR to C, the three vertical lines are going downward in each rating, but from B to AA, the trend becomes upward. For people with high prosper rating range (B to AA), the longer contract they take, the higher APR percentage they will receive. For people with low prosper rating range (HR to C), the longer contract they sign up, the lower ARP rate they will receive."
   ]
  },
  {
   "cell_type": "markdown",
   "metadata": {
    "slideshow": {
     "slide_type": "slide"
    }
   },
   "source": [
    "* Loan Status by Occupation and Income"
   ]
  },
  {
   "cell_type": "markdown",
   "metadata": {
    "slideshow": {
     "slide_type": "subslide"
    }
   },
   "source": [
    "We first group the loan status into 'Non-Performing', i.e. defaulted, chargedoff loan, and 'Performing' group.\n",
    "After that, we check the Non-Performing (NPF) rate by occupation and its average income."
   ]
  },
  {
   "cell_type": "markdown",
   "metadata": {
    "slideshow": {
     "slide_type": "slide"
    }
   },
   "source": [
    "![](IMAGE/Non_Performing_Loan_Rate_By_Occupation_Income.png)"
   ]
  },
  {
   "cell_type": "markdown",
   "metadata": {
    "slideshow": {
     "slide_type": "subslide"
    }
   },
   "source": [
    "Above plot shows the relationship among Non-Performing loans % vs. Mean Income by profession and include a best-fit plot with second order. We can see that borrowers in lower-income Occupations generally have a higher percentage of non-performing loans. This trend makes sense because occupations with higher incomes have more stability to pay back their loans. The size of the circles indicates the number of cases falling into this coordinate. We can see that main group have salary about $4200, and their non-performing rate is about 18%."
   ]
  }
 ],
 "metadata": {
  "celltoolbar": "Slideshow",
  "kernelspec": {
   "display_name": "Python 3",
   "language": "python",
   "name": "python3"
  },
  "language_info": {
   "codemirror_mode": {
    "name": "ipython",
    "version": 3
   },
   "file_extension": ".py",
   "mimetype": "text/x-python",
   "name": "python",
   "nbconvert_exporter": "python",
   "pygments_lexer": "ipython3",
   "version": "3.6.2"
  }
 },
 "nbformat": 4,
 "nbformat_minor": 2
}
