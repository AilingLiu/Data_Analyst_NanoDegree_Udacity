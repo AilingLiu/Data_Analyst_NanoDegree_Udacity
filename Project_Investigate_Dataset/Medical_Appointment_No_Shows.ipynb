{
 "cells": [
  {
   "cell_type": "markdown",
   "metadata": {
    "colab_type": "text",
    "id": "emm7KZLBNWeX"
   },
   "source": [
    "# Background\n",
    "\n",
    "This project comes from [Kaggle](https://www.kaggle.com/joniarroba/noshowappointments). \n",
    "\n",
    "**Problem Statement**\n",
    "\n",
    "We are interested to identify the possible reasons of no-show patients who had made doctor appointments.\n",
    "\n",
    "**Data Overview**\n",
    "\n",
    "This dataset collects information from 100k medical appointments in Brazil and is focused on the question of whether or not patients show up for their appointment. A number of characteristics about the patient are included in each row.\n",
    "\n",
    "- `ScheduledDay` tells us on what day the patient set up their appointment.\n",
    "- `Neighborhood` indicates the location of the hospital.\n",
    "- `Scholarship` indicates whether or not the patient is enrolled in Brasilian welfare program Bolsa Família.\n",
    "- Be careful about the encoding of the last column: it says ‘No’ if the patient showed up to their appointment, and ‘Yes’ if they did not show up."
   ]
  },
  {
   "cell_type": "code",
   "execution_count": 1,
   "metadata": {
    "colab": {
     "base_uri": "https://localhost:8080/",
     "height": 52
    },
    "colab_type": "code",
    "id": "x6sGUEuLNKdM",
    "outputId": "cb67aab7-4e45-48ff-fde9-8baafda6196c"
   },
   "outputs": [
    {
     "name": "stderr",
     "output_type": "stream",
     "text": [
      "/usr/local/lib/python3.6/dist-packages/statsmodels/tools/_testing.py:19: FutureWarning: pandas.util.testing is deprecated. Use the functions in the public API at pandas.testing instead.\n",
      "  import pandas.util.testing as tm\n"
     ]
    }
   ],
   "source": [
    "import os\n",
    "import matplotlib.pyplot as plt\n",
    "import pandas as pd\n",
    "import numpy as np\n",
    "import seaborn as sns\n",
    "import urllib\n",
    "from IPython.display import display"
   ]
  },
  {
   "cell_type": "code",
   "execution_count": 0,
   "metadata": {
    "colab": {},
    "colab_type": "code",
    "id": "C4CFujsAOMj7"
   },
   "outputs": [],
   "source": [
    "PROJECT_ROOT = '.'\n",
    "IMAGES = os.path.join(PROJECT_ROOT, 'IMAGES')\n",
    "DATA = os.path.join(PROJECT_ROOT, 'DATASETS')\n",
    "\n",
    "if not os.path.isdir(IMAGES):\n",
    "  os.mkdir(IMAGES)\n",
    "\n",
    "if not os.path.isdir(DATA):\n",
    "  os.mkdir(DATA)\n",
    "\n",
    "def fetch_data(file_url, file_name, path):\n",
    "  if not os.path.isdir(path):\n",
    "    os.mkdir(path)\n",
    "  file_path = os.path.join(path, file_name)\n",
    "  urllib.request.urlretrieve(file_url, file_path)\n",
    "  print('File is downloaded in: ', file_path)\n",
    "\n",
    "def save_fig(image_name, path=IMAGES, dpi=300, fmt='png'):\n",
    "  if not os.path.isdir(path):\n",
    "    os.mkdir(path)\n",
    "  image_path = os.path.join(path, image_name+'.'+fmt)\n",
    "  plt.savefig(image_path, dpi=dpi, format=fmt)"
   ]
  },
  {
   "cell_type": "markdown",
   "metadata": {
    "colab_type": "text",
    "id": "gBws0fzAPfNz"
   },
   "source": [
    "# Fetch and Load Data"
   ]
  },
  {
   "cell_type": "code",
   "execution_count": 3,
   "metadata": {
    "colab": {
     "base_uri": "https://localhost:8080/",
     "height": 34
    },
    "colab_type": "code",
    "id": "Pgwvn_ykOsiR",
    "outputId": "43e23b9d-bf2d-4687-a200-297bcb3ccc6c"
   },
   "outputs": [
    {
     "name": "stdout",
     "output_type": "stream",
     "text": [
      "File is downloaded in:  ./DATASETS/noshow.csv\n"
     ]
    }
   ],
   "source": [
    "noshow_url = 'https://d17h27t6h515a5.cloudfront.net/topher/2017/October/59dd2e9a_noshowappointments-kagglev2-may-2016/noshowappointments-kagglev2-may-2016.csv'\n",
    "fetch_data(noshow_url, 'noshow.csv', DATA)"
   ]
  },
  {
   "cell_type": "code",
   "execution_count": 4,
   "metadata": {
    "colab": {
     "base_uri": "https://localhost:8080/",
     "height": 105
    },
    "colab_type": "code",
    "id": "dbVSd5EKPuRR",
    "outputId": "91bfcd2b-210a-44d7-e3d8-77c8599066af"
   },
   "outputs": [
    {
     "name": "stdout",
     "output_type": "stream",
     "text": [
      "PatientId,AppointmentID,Gender,ScheduledDay,AppointmentDay,Age,Neighbourhood,Scholarship,Hipertension,Diabetes,Alcoholism,Handcap,SMS_received,No-show\n",
      "29872499824296,5642903,F,2016-04-29T18:38:08Z,2016-04-29T00:00:00Z,62,JARDIM DA PENHA,0,1,0,0,0,0,No\n",
      "558997776694438,5642503,M,2016-04-29T16:08:27Z,2016-04-29T00:00:00Z,56,JARDIM DA PENHA,0,0,0,0,0,0,No\n",
      "4262962299951,5642549,F,2016-04-29T16:19:04Z,2016-04-29T00:00:00Z,62,MATA DA PRAIA,0,0,0,0,0,0,No\n",
      "867951213174,5642828,F,2016-04-29T17:29:31Z,2016-04-29T00:00:00Z,8,PONTAL DE CAMBURI,0,0,0,0,0,0,No\n"
     ]
    }
   ],
   "source": [
    "# check the first 5 rows of data before reading in dataframe\n",
    "!head -5 ./DATASETS/noshow.csv"
   ]
  },
  {
   "cell_type": "code",
   "execution_count": 0,
   "metadata": {
    "colab": {},
    "colab_type": "code",
    "id": "zDQoLumBP3Aa"
   },
   "outputs": [],
   "source": [
    "file_path = os.path.join(DATA, 'noshow.csv')\n",
    "def load_nowshow_data(file_path=file_path):\n",
    "  df = pd.read_csv(file_path, parse_dates=['ScheduledDay', 'AppointmentDay'], dtype={'PatientId': 'object', 'AppointmentID': 'object'})\n",
    "  return df\n",
    "\n",
    "noshow = load_nowshow_data()"
   ]
  },
  {
   "cell_type": "markdown",
   "metadata": {
    "colab_type": "text",
    "id": "kR4GvvEyR7RO"
   },
   "source": [
    "# Data Wrangling"
   ]
  },
  {
   "cell_type": "markdown",
   "metadata": {
    "colab_type": "text",
    "id": "NeC0-wHFkhP5"
   },
   "source": [
    "\n",
    "* General Properties\n"
   ]
  },
  {
   "cell_type": "code",
   "execution_count": 6,
   "metadata": {
    "colab": {
     "base_uri": "https://localhost:8080/",
     "height": 390
    },
    "colab_type": "code",
    "id": "eRjW86JnTcDd",
    "outputId": "d78b398d-cfe2-4999-ad29-afed144377f8"
   },
   "outputs": [
    {
     "name": "stdout",
     "output_type": "stream",
     "text": [
      "<class 'pandas.core.frame.DataFrame'>\n",
      "RangeIndex: 110527 entries, 0 to 110526\n",
      "Data columns (total 14 columns):\n",
      " #   Column          Non-Null Count   Dtype              \n",
      "---  ------          --------------   -----              \n",
      " 0   PatientId       110527 non-null  object             \n",
      " 1   AppointmentID   110527 non-null  object             \n",
      " 2   Gender          110527 non-null  object             \n",
      " 3   ScheduledDay    110527 non-null  datetime64[ns, UTC]\n",
      " 4   AppointmentDay  110527 non-null  datetime64[ns, UTC]\n",
      " 5   Age             110527 non-null  int64              \n",
      " 6   Neighbourhood   110527 non-null  object             \n",
      " 7   Scholarship     110527 non-null  int64              \n",
      " 8   Hipertension    110527 non-null  int64              \n",
      " 9   Diabetes        110527 non-null  int64              \n",
      " 10  Alcoholism      110527 non-null  int64              \n",
      " 11  Handcap         110527 non-null  int64              \n",
      " 12  SMS_received    110527 non-null  int64              \n",
      " 13  No-show         110527 non-null  object             \n",
      "dtypes: datetime64[ns, UTC](2), int64(7), object(5)\n",
      "memory usage: 11.8+ MB\n"
     ]
    }
   ],
   "source": [
    "noshow.info()"
   ]
  },
  {
   "cell_type": "code",
   "execution_count": 7,
   "metadata": {
    "colab": {
     "base_uri": "https://localhost:8080/",
     "height": 197
    },
    "colab_type": "code",
    "id": "O-jlTnWQQcsi",
    "outputId": "4abbad06-e8ac-4f5d-bb61-503401c79139"
   },
   "outputs": [
    {
     "data": {
      "text/html": [
       "<div>\n",
       "<style scoped>\n",
       "    .dataframe tbody tr th:only-of-type {\n",
       "        vertical-align: middle;\n",
       "    }\n",
       "\n",
       "    .dataframe tbody tr th {\n",
       "        vertical-align: top;\n",
       "    }\n",
       "\n",
       "    .dataframe thead th {\n",
       "        text-align: right;\n",
       "    }\n",
       "</style>\n",
       "<table border=\"1\" class=\"dataframe\">\n",
       "  <thead>\n",
       "    <tr style=\"text-align: right;\">\n",
       "      <th></th>\n",
       "      <th>PatientId</th>\n",
       "      <th>AppointmentID</th>\n",
       "      <th>Gender</th>\n",
       "      <th>ScheduledDay</th>\n",
       "      <th>AppointmentDay</th>\n",
       "      <th>Age</th>\n",
       "      <th>Neighbourhood</th>\n",
       "      <th>Scholarship</th>\n",
       "      <th>Hipertension</th>\n",
       "      <th>Diabetes</th>\n",
       "      <th>Alcoholism</th>\n",
       "      <th>Handcap</th>\n",
       "      <th>SMS_received</th>\n",
       "      <th>No-show</th>\n",
       "    </tr>\n",
       "  </thead>\n",
       "  <tbody>\n",
       "    <tr>\n",
       "      <th>0</th>\n",
       "      <td>29872499824296</td>\n",
       "      <td>5642903</td>\n",
       "      <td>F</td>\n",
       "      <td>2016-04-29 18:38:08+00:00</td>\n",
       "      <td>2016-04-29 00:00:00+00:00</td>\n",
       "      <td>62</td>\n",
       "      <td>JARDIM DA PENHA</td>\n",
       "      <td>0</td>\n",
       "      <td>1</td>\n",
       "      <td>0</td>\n",
       "      <td>0</td>\n",
       "      <td>0</td>\n",
       "      <td>0</td>\n",
       "      <td>No</td>\n",
       "    </tr>\n",
       "    <tr>\n",
       "      <th>1</th>\n",
       "      <td>558997776694438</td>\n",
       "      <td>5642503</td>\n",
       "      <td>M</td>\n",
       "      <td>2016-04-29 16:08:27+00:00</td>\n",
       "      <td>2016-04-29 00:00:00+00:00</td>\n",
       "      <td>56</td>\n",
       "      <td>JARDIM DA PENHA</td>\n",
       "      <td>0</td>\n",
       "      <td>0</td>\n",
       "      <td>0</td>\n",
       "      <td>0</td>\n",
       "      <td>0</td>\n",
       "      <td>0</td>\n",
       "      <td>No</td>\n",
       "    </tr>\n",
       "    <tr>\n",
       "      <th>2</th>\n",
       "      <td>4262962299951</td>\n",
       "      <td>5642549</td>\n",
       "      <td>F</td>\n",
       "      <td>2016-04-29 16:19:04+00:00</td>\n",
       "      <td>2016-04-29 00:00:00+00:00</td>\n",
       "      <td>62</td>\n",
       "      <td>MATA DA PRAIA</td>\n",
       "      <td>0</td>\n",
       "      <td>0</td>\n",
       "      <td>0</td>\n",
       "      <td>0</td>\n",
       "      <td>0</td>\n",
       "      <td>0</td>\n",
       "      <td>No</td>\n",
       "    </tr>\n",
       "    <tr>\n",
       "      <th>3</th>\n",
       "      <td>867951213174</td>\n",
       "      <td>5642828</td>\n",
       "      <td>F</td>\n",
       "      <td>2016-04-29 17:29:31+00:00</td>\n",
       "      <td>2016-04-29 00:00:00+00:00</td>\n",
       "      <td>8</td>\n",
       "      <td>PONTAL DE CAMBURI</td>\n",
       "      <td>0</td>\n",
       "      <td>0</td>\n",
       "      <td>0</td>\n",
       "      <td>0</td>\n",
       "      <td>0</td>\n",
       "      <td>0</td>\n",
       "      <td>No</td>\n",
       "    </tr>\n",
       "    <tr>\n",
       "      <th>4</th>\n",
       "      <td>8841186448183</td>\n",
       "      <td>5642494</td>\n",
       "      <td>F</td>\n",
       "      <td>2016-04-29 16:07:23+00:00</td>\n",
       "      <td>2016-04-29 00:00:00+00:00</td>\n",
       "      <td>56</td>\n",
       "      <td>JARDIM DA PENHA</td>\n",
       "      <td>0</td>\n",
       "      <td>1</td>\n",
       "      <td>1</td>\n",
       "      <td>0</td>\n",
       "      <td>0</td>\n",
       "      <td>0</td>\n",
       "      <td>No</td>\n",
       "    </tr>\n",
       "  </tbody>\n",
       "</table>\n",
       "</div>"
      ],
      "text/plain": [
       "         PatientId AppointmentID Gender  ... Handcap SMS_received  No-show\n",
       "0   29872499824296       5642903      F  ...       0            0       No\n",
       "1  558997776694438       5642503      M  ...       0            0       No\n",
       "2    4262962299951       5642549      F  ...       0            0       No\n",
       "3     867951213174       5642828      F  ...       0            0       No\n",
       "4    8841186448183       5642494      F  ...       0            0       No\n",
       "\n",
       "[5 rows x 14 columns]"
      ]
     },
     "execution_count": 7,
     "metadata": {
      "tags": []
     },
     "output_type": "execute_result"
    }
   ],
   "source": [
    "noshow.head()"
   ]
  },
  {
   "cell_type": "code",
   "execution_count": 8,
   "metadata": {
    "colab": {
     "base_uri": "https://localhost:8080/",
     "height": 34
    },
    "colab_type": "code",
    "id": "H7rzhRPlT6rF",
    "outputId": "13806d1f-fd75-416a-f986-a0b7b40a2eb1"
   },
   "outputs": [
    {
     "data": {
      "text/plain": [
       "False"
      ]
     },
     "execution_count": 8,
     "metadata": {
      "tags": []
     },
     "output_type": "execute_result"
    }
   ],
   "source": [
    "noshow.duplicated().any()"
   ]
  },
  {
   "cell_type": "code",
   "execution_count": 9,
   "metadata": {
    "colab": {
     "base_uri": "https://localhost:8080/",
     "height": 287
    },
    "colab_type": "code",
    "id": "Z4uIzTsK9cju",
    "outputId": "43a6768b-608d-4e55-c439-d31dc3bf893b"
   },
   "outputs": [
    {
     "data": {
      "text/html": [
       "<div>\n",
       "<style scoped>\n",
       "    .dataframe tbody tr th:only-of-type {\n",
       "        vertical-align: middle;\n",
       "    }\n",
       "\n",
       "    .dataframe tbody tr th {\n",
       "        vertical-align: top;\n",
       "    }\n",
       "\n",
       "    .dataframe thead th {\n",
       "        text-align: right;\n",
       "    }\n",
       "</style>\n",
       "<table border=\"1\" class=\"dataframe\">\n",
       "  <thead>\n",
       "    <tr style=\"text-align: right;\">\n",
       "      <th></th>\n",
       "      <th>Age</th>\n",
       "      <th>Scholarship</th>\n",
       "      <th>Hipertension</th>\n",
       "      <th>Diabetes</th>\n",
       "      <th>Alcoholism</th>\n",
       "      <th>Handcap</th>\n",
       "      <th>SMS_received</th>\n",
       "    </tr>\n",
       "  </thead>\n",
       "  <tbody>\n",
       "    <tr>\n",
       "      <th>count</th>\n",
       "      <td>110527.000000</td>\n",
       "      <td>110527.000000</td>\n",
       "      <td>110527.000000</td>\n",
       "      <td>110527.000000</td>\n",
       "      <td>110527.000000</td>\n",
       "      <td>110527.000000</td>\n",
       "      <td>110527.000000</td>\n",
       "    </tr>\n",
       "    <tr>\n",
       "      <th>mean</th>\n",
       "      <td>37.088874</td>\n",
       "      <td>0.098266</td>\n",
       "      <td>0.197246</td>\n",
       "      <td>0.071865</td>\n",
       "      <td>0.030400</td>\n",
       "      <td>0.022248</td>\n",
       "      <td>0.321026</td>\n",
       "    </tr>\n",
       "    <tr>\n",
       "      <th>std</th>\n",
       "      <td>23.110205</td>\n",
       "      <td>0.297675</td>\n",
       "      <td>0.397921</td>\n",
       "      <td>0.258265</td>\n",
       "      <td>0.171686</td>\n",
       "      <td>0.161543</td>\n",
       "      <td>0.466873</td>\n",
       "    </tr>\n",
       "    <tr>\n",
       "      <th>min</th>\n",
       "      <td>-1.000000</td>\n",
       "      <td>0.000000</td>\n",
       "      <td>0.000000</td>\n",
       "      <td>0.000000</td>\n",
       "      <td>0.000000</td>\n",
       "      <td>0.000000</td>\n",
       "      <td>0.000000</td>\n",
       "    </tr>\n",
       "    <tr>\n",
       "      <th>25%</th>\n",
       "      <td>18.000000</td>\n",
       "      <td>0.000000</td>\n",
       "      <td>0.000000</td>\n",
       "      <td>0.000000</td>\n",
       "      <td>0.000000</td>\n",
       "      <td>0.000000</td>\n",
       "      <td>0.000000</td>\n",
       "    </tr>\n",
       "    <tr>\n",
       "      <th>50%</th>\n",
       "      <td>37.000000</td>\n",
       "      <td>0.000000</td>\n",
       "      <td>0.000000</td>\n",
       "      <td>0.000000</td>\n",
       "      <td>0.000000</td>\n",
       "      <td>0.000000</td>\n",
       "      <td>0.000000</td>\n",
       "    </tr>\n",
       "    <tr>\n",
       "      <th>75%</th>\n",
       "      <td>55.000000</td>\n",
       "      <td>0.000000</td>\n",
       "      <td>0.000000</td>\n",
       "      <td>0.000000</td>\n",
       "      <td>0.000000</td>\n",
       "      <td>0.000000</td>\n",
       "      <td>1.000000</td>\n",
       "    </tr>\n",
       "    <tr>\n",
       "      <th>max</th>\n",
       "      <td>115.000000</td>\n",
       "      <td>1.000000</td>\n",
       "      <td>1.000000</td>\n",
       "      <td>1.000000</td>\n",
       "      <td>1.000000</td>\n",
       "      <td>4.000000</td>\n",
       "      <td>1.000000</td>\n",
       "    </tr>\n",
       "  </tbody>\n",
       "</table>\n",
       "</div>"
      ],
      "text/plain": [
       "                 Age    Scholarship  ...        Handcap   SMS_received\n",
       "count  110527.000000  110527.000000  ...  110527.000000  110527.000000\n",
       "mean       37.088874       0.098266  ...       0.022248       0.321026\n",
       "std        23.110205       0.297675  ...       0.161543       0.466873\n",
       "min        -1.000000       0.000000  ...       0.000000       0.000000\n",
       "25%        18.000000       0.000000  ...       0.000000       0.000000\n",
       "50%        37.000000       0.000000  ...       0.000000       0.000000\n",
       "75%        55.000000       0.000000  ...       0.000000       1.000000\n",
       "max       115.000000       1.000000  ...       4.000000       1.000000\n",
       "\n",
       "[8 rows x 7 columns]"
      ]
     },
     "execution_count": 9,
     "metadata": {
      "tags": []
     },
     "output_type": "execute_result"
    }
   ],
   "source": [
    "noshow.describe()"
   ]
  },
  {
   "cell_type": "markdown",
   "metadata": {
    "colab_type": "text",
    "id": "uu9HNuQiTXdO"
   },
   "source": [
    "There are 110,527 rows, and 14 columns in this dataset. There appeares to be no missing values. The columns consists of datatime, numerical and categorical types. There are no duplicated rows. \n",
    "\n",
    "However, 'Age' attribute contains negative values. This should not happen. We can clean it up in the next phase."
   ]
  },
  {
   "cell_type": "markdown",
   "metadata": {
    "colab_type": "text",
    "id": "N4CekfFSkkLd"
   },
   "source": [
    "* Data cleaning"
   ]
  },
  {
   "cell_type": "markdown",
   "metadata": {
    "colab_type": "text",
    "id": "LpRF4CWV9vA7"
   },
   "source": [
    "## Handle dubious values in age"
   ]
  },
  {
   "cell_type": "code",
   "execution_count": 20,
   "metadata": {
    "colab": {
     "base_uri": "https://localhost:8080/",
     "height": 34
    },
    "colab_type": "code",
    "id": "KPh2flzZ9z4Y",
    "outputId": "4796b127-075c-437a-f2a8-a847bdf02971"
   },
   "outputs": [
    {
     "name": "stdout",
     "output_type": "stream",
     "text": [
      "total number of rows that have negative value at age columns:  1\n"
     ]
    }
   ],
   "source": [
    "print('total number of rows that have negative value at age columns: ', (noshow['Age']<0).sum())"
   ]
  },
  {
   "cell_type": "code",
   "execution_count": 19,
   "metadata": {
    "colab": {
     "base_uri": "https://localhost:8080/",
     "height": 281
    },
    "colab_type": "code",
    "id": "oKXYKjuc-ymi",
    "outputId": "33d7891e-61ed-47a7-887f-95606a024338"
   },
   "outputs": [
    {
     "data": {
      "image/png": "[encoded data removed]",
      "text/plain": [
       "<Figure size 432x288 with 1 Axes>"
      ]
     },
     "metadata": {
      "needs_background": "light",
      "tags": []
     },
     "output_type": "display_data"
    }
   ],
   "source": [
    "ax = noshow['Age'].plot(kind='box', figsize=(6, 4))\n",
    "ax.set(title='Boxplot of Age')\n",
    "save_fig('Boxplot_of_Age')"
   ]
  },
  {
   "cell_type": "code",
   "execution_count": 22,
   "metadata": {
    "colab": {
     "base_uri": "https://localhost:8080/",
     "height": 34
    },
    "colab_type": "code",
    "id": "uWPElZFdAGuL",
    "outputId": "80f171ae-96de-4568-ad0b-8cf45cb0332d"
   },
   "outputs": [
    {
     "data": {
      "text/plain": [
       "7"
      ]
     },
     "execution_count": 22,
     "metadata": {
      "tags": []
     },
     "output_type": "execute_result"
    }
   ],
   "source": [
    "# number of patients whose age is greater than 100\n",
    "(noshow['Age']>100).sum()"
   ]
  },
  {
   "cell_type": "markdown",
   "metadata": {
    "colab_type": "text",
    "id": "LVGcMt1_95K0"
   },
   "source": [
    "There is 1 row having negative  value in age column, and another 7 rows have outlier value greater than 100. Since the number of dubious values is relatively small, I choose to drop them directly, to mitigate uncessary noises to the prediction."
   ]
  },
  {
   "cell_type": "code",
   "execution_count": 26,
   "metadata": {
    "colab": {
     "base_uri": "https://localhost:8080/",
     "height": 176
    },
    "colab_type": "code",
    "id": "aAabdEcd_44S",
    "outputId": "b7c13691-eb82-4507-f68f-00d01ee17d2f"
   },
   "outputs": [
    {
     "data": {
      "text/plain": [
       "count    110519.000000\n",
       "mean         37.084519\n",
       "std          23.103165\n",
       "min           0.000000\n",
       "25%          18.000000\n",
       "50%          37.000000\n",
       "75%          55.000000\n",
       "max         100.000000\n",
       "Name: Age, dtype: float64"
      ]
     },
     "execution_count": 26,
     "metadata": {
      "tags": []
     },
     "output_type": "execute_result"
    }
   ],
   "source": [
    "inds = np.where((noshow['Age']<0) | (noshow['Age'] > 100))[0]\n",
    "noshow.drop(index=inds, axis=0, inplace=True)\n",
    "noshow['Age'].describe()"
   ]
  },
  {
   "cell_type": "markdown",
   "metadata": {
    "colab_type": "text",
    "id": "AQPweE0IA6qy"
   },
   "source": [
    "## Handle dubious schedule and appointment day"
   ]
  },
  {
   "cell_type": "code",
   "execution_count": 27,
   "metadata": {
    "colab": {
     "base_uri": "https://localhost:8080/",
     "height": 197
    },
    "colab_type": "code",
    "id": "krCdwPXHj6rP",
    "outputId": "18616ba6-7488-403e-c4a1-50a2cf9d4726"
   },
   "outputs": [
    {
     "data": {
      "text/html": [
       "<div>\n",
       "<style scoped>\n",
       "    .dataframe tbody tr th:only-of-type {\n",
       "        vertical-align: middle;\n",
       "    }\n",
       "\n",
       "    .dataframe tbody tr th {\n",
       "        vertical-align: top;\n",
       "    }\n",
       "\n",
       "    .dataframe thead th {\n",
       "        text-align: right;\n",
       "    }\n",
       "</style>\n",
       "<table border=\"1\" class=\"dataframe\">\n",
       "  <thead>\n",
       "    <tr style=\"text-align: right;\">\n",
       "      <th></th>\n",
       "      <th>PatientId</th>\n",
       "      <th>AppointmentID</th>\n",
       "      <th>Gender</th>\n",
       "      <th>ScheduledDay</th>\n",
       "      <th>AppointmentDay</th>\n",
       "      <th>Age</th>\n",
       "      <th>Neighbourhood</th>\n",
       "      <th>Scholarship</th>\n",
       "      <th>Hipertension</th>\n",
       "      <th>Diabetes</th>\n",
       "      <th>Alcoholism</th>\n",
       "      <th>Handcap</th>\n",
       "      <th>SMS_received</th>\n",
       "      <th>No-show</th>\n",
       "    </tr>\n",
       "  </thead>\n",
       "  <tbody>\n",
       "    <tr>\n",
       "      <th>27033</th>\n",
       "      <td>7839272661752</td>\n",
       "      <td>5679978</td>\n",
       "      <td>M</td>\n",
       "      <td>2016-05-10 10:51:53+00:00</td>\n",
       "      <td>2016-05-09 00:00:00+00:00</td>\n",
       "      <td>38</td>\n",
       "      <td>RESISTÊNCIA</td>\n",
       "      <td>0</td>\n",
       "      <td>0</td>\n",
       "      <td>0</td>\n",
       "      <td>0</td>\n",
       "      <td>1</td>\n",
       "      <td>0</td>\n",
       "      <td>Yes</td>\n",
       "    </tr>\n",
       "    <tr>\n",
       "      <th>55226</th>\n",
       "      <td>7896293967868</td>\n",
       "      <td>5715660</td>\n",
       "      <td>F</td>\n",
       "      <td>2016-05-18 14:50:41+00:00</td>\n",
       "      <td>2016-05-17 00:00:00+00:00</td>\n",
       "      <td>19</td>\n",
       "      <td>SANTO ANTÔNIO</td>\n",
       "      <td>0</td>\n",
       "      <td>0</td>\n",
       "      <td>0</td>\n",
       "      <td>0</td>\n",
       "      <td>1</td>\n",
       "      <td>0</td>\n",
       "      <td>Yes</td>\n",
       "    </tr>\n",
       "    <tr>\n",
       "      <th>64175</th>\n",
       "      <td>24252258389979</td>\n",
       "      <td>5664962</td>\n",
       "      <td>F</td>\n",
       "      <td>2016-05-05 13:43:58+00:00</td>\n",
       "      <td>2016-05-04 00:00:00+00:00</td>\n",
       "      <td>22</td>\n",
       "      <td>CONSOLAÇÃO</td>\n",
       "      <td>0</td>\n",
       "      <td>0</td>\n",
       "      <td>0</td>\n",
       "      <td>0</td>\n",
       "      <td>0</td>\n",
       "      <td>0</td>\n",
       "      <td>Yes</td>\n",
       "    </tr>\n",
       "    <tr>\n",
       "      <th>71533</th>\n",
       "      <td>998231581612122</td>\n",
       "      <td>5686628</td>\n",
       "      <td>F</td>\n",
       "      <td>2016-05-11 13:49:20+00:00</td>\n",
       "      <td>2016-05-05 00:00:00+00:00</td>\n",
       "      <td>81</td>\n",
       "      <td>SANTO ANTÔNIO</td>\n",
       "      <td>0</td>\n",
       "      <td>0</td>\n",
       "      <td>0</td>\n",
       "      <td>0</td>\n",
       "      <td>0</td>\n",
       "      <td>0</td>\n",
       "      <td>Yes</td>\n",
       "    </tr>\n",
       "    <tr>\n",
       "      <th>72362</th>\n",
       "      <td>3787481966821</td>\n",
       "      <td>5655637</td>\n",
       "      <td>M</td>\n",
       "      <td>2016-05-04 06:50:57+00:00</td>\n",
       "      <td>2016-05-03 00:00:00+00:00</td>\n",
       "      <td>7</td>\n",
       "      <td>TABUAZEIRO</td>\n",
       "      <td>0</td>\n",
       "      <td>0</td>\n",
       "      <td>0</td>\n",
       "      <td>0</td>\n",
       "      <td>0</td>\n",
       "      <td>0</td>\n",
       "      <td>Yes</td>\n",
       "    </tr>\n",
       "  </tbody>\n",
       "</table>\n",
       "</div>"
      ],
      "text/plain": [
       "             PatientId AppointmentID Gender  ... Handcap SMS_received  No-show\n",
       "27033    7839272661752       5679978      M  ...       1            0      Yes\n",
       "55226    7896293967868       5715660      F  ...       1            0      Yes\n",
       "64175   24252258389979       5664962      F  ...       0            0      Yes\n",
       "71533  998231581612122       5686628      F  ...       0            0      Yes\n",
       "72362    3787481966821       5655637      M  ...       0            0      Yes\n",
       "\n",
       "[5 rows x 14 columns]"
      ]
     },
     "execution_count": 27,
     "metadata": {
      "tags": []
     },
     "output_type": "execute_result"
    }
   ],
   "source": [
    "mask = noshow['AppointmentDay'].dt.date < noshow['ScheduledDay'].dt.date\n",
    "\n",
    "noshow[mask]"
   ]
  },
  {
   "cell_type": "markdown",
   "metadata": {
    "colab_type": "text",
    "id": "B3NesN1UkmQw"
   },
   "source": [
    "There are 5 records show that patients' appointment day ahead of schedule day. This would be possible when it is emergency treatment and later on record their appointment date. But in this scenario, the No-show status would be 'No' instead of yes.\n",
    "\n",
    "To mitigate obscure information, I decide to drop these records from the dataset."
   ]
  },
  {
   "cell_type": "code",
   "execution_count": 0,
   "metadata": {
    "colab": {},
    "colab_type": "code",
    "id": "mDXZWG6BlMCW"
   },
   "outputs": [],
   "source": [
    "inds = noshow[mask].index.values\n",
    "noshow.drop(index=inds, axis=0, inplace=True)"
   ]
  },
  {
   "cell_type": "markdown",
   "metadata": {
    "colab_type": "text",
    "id": "bXz8quZYSEh0"
   },
   "source": [
    "# Exploratory Data Analysis\n",
    "\n",
    "* What is the percentage of no-show in the entire dataset?\n",
    "* Does the waiting time between schedule day and appointment day affect no-show portions?\n",
    "* Does the scholarship lead to high no-show chances?\n",
    "* Which neighbourhood has the highest no-show counts?\n",
    "* Which disease has the highest no-show counts? \n",
    "* Does the usage of sms reminder help to lower no-show rate?"
   ]
  },
  {
   "cell_type": "markdown",
   "metadata": {
    "colab_type": "text",
    "id": "rmeWqihRd1tR"
   },
   "source": [
    "## No-show Status\n",
    "\n",
    "**Question: What is the percentage of no-show in the entire dataset?**"
   ]
  },
  {
   "cell_type": "code",
   "execution_count": 29,
   "metadata": {
    "colab": {
     "base_uri": "https://localhost:8080/",
     "height": 356
    },
    "colab_type": "code",
    "id": "YZRFOLUUd37n",
    "outputId": "d671ac24-fe50-40df-b046-cb6bfe83c73e"
   },
   "outputs": [
    {
     "data": {
      "image/png": "[encoded data removed]",
      "text/plain": [
       "<Figure size 576x432 with 1 Axes>"
      ]
     },
     "metadata": {
      "tags": []
     },
     "output_type": "display_data"
    }
   ],
   "source": [
    "noshow['No-show'].value_counts().plot(kind='pie', autopct='%.2f', figsize=(8, 6))\n",
    "save_fig('Pie_of_No_Show_Stauts')"
   ]
  },
  {
   "cell_type": "markdown",
   "metadata": {
    "colab_type": "text",
    "id": "L3zpoK5weEiC"
   },
   "source": [
    "79.81% patients showed up for the appointment, and 20.19% of patients did not show up."
   ]
  },
  {
   "cell_type": "markdown",
   "metadata": {
    "colab_type": "text",
    "id": "gmswKJ2OWhoN"
   },
   "source": [
    "## No-show status by Waiting Time\n",
    "\n",
    "**Questions: How long is the average waiting time in days?**"
   ]
  },
  {
   "cell_type": "code",
   "execution_count": 30,
   "metadata": {
    "colab": {
     "base_uri": "https://localhost:8080/",
     "height": 404
    },
    "colab_type": "code",
    "id": "mAPLNldFVQ1v",
    "outputId": "4f85d7f5-fe3b-4e7d-a225-f102e36bc08b"
   },
   "outputs": [
    {
     "data": {
      "image/png": "[encoded data removed]",
      "text/plain": [
       "<Figure size 720x432 with 2 Axes>"
      ]
     },
     "metadata": {
      "needs_background": "light",
      "tags": []
     },
     "output_type": "display_data"
    }
   ],
   "source": [
    "noshow_waiting = (noshow['AppointmentDay'].dt.date- noshow['ScheduledDay'].dt.date).dt.days\n",
    "\n",
    "fig, (ax1, ax2) = plt.subplots(1, 2, figsize=(10, 6))\n",
    "noshow_waiting.hist(ax=ax1)\n",
    "ax1.set(title='Histogram of Waiting Days', xlabel='Waiting Days', ylabel='Counts')\n",
    "noshow_waiting.plot(kind='box', ax=ax2)\n",
    "ax2.set(title='Boxplot of Waiting Days', ylabel='Waiting Days')\n",
    "\n",
    "save_fig('Plots_of_Waiting_Days')"
   ]
  },
  {
   "cell_type": "code",
   "execution_count": 31,
   "metadata": {
    "colab": {
     "base_uri": "https://localhost:8080/",
     "height": 176
    },
    "colab_type": "code",
    "id": "q2d7r7VDYh2Z",
    "outputId": "71f217fe-452b-4361-aba7-1a7cba41d0ca"
   },
   "outputs": [
    {
     "data": {
      "text/plain": [
       "count    110514.000000\n",
       "mean         10.184438\n",
       "std          15.255288\n",
       "min           0.000000\n",
       "25%           0.000000\n",
       "50%           4.000000\n",
       "75%          15.000000\n",
       "max         179.000000\n",
       "dtype: float64"
      ]
     },
     "execution_count": 31,
     "metadata": {
      "tags": []
     },
     "output_type": "execute_result"
    }
   ],
   "source": [
    "noshow_waiting.describe()"
   ]
  },
  {
   "cell_type": "markdown",
   "metadata": {
    "colab_type": "text",
    "id": "X1z3hwl9XZYw"
   },
   "source": [
    "The above histogram shows waiting days distribution being right skewed. The median waiting time is 4 days, but there are 25% of patients need to wait between 4 days to 15 days, and another 25% of patients wait more than 2 weeks. There are a number of outliers at the higer end, indicating some patients wait for a significant long time before attending the appointment."
   ]
  },
  {
   "cell_type": "markdown",
   "metadata": {
    "colab_type": "text",
    "id": "DKjE79IGVCOM"
   },
   "source": [
    "**Question: How does the waiting time between schedule day and appointment day affect no-show percentage?**"
   ]
  },
  {
   "cell_type": "code",
   "execution_count": 33,
   "metadata": {
    "colab": {
     "base_uri": "https://localhost:8080/",
     "height": 87
    },
    "colab_type": "code",
    "id": "GsOX8Hp1mQdc",
    "outputId": "db97ba93-eb3c-46a1-f3d6-b87a711b93cd"
   },
   "outputs": [
    {
     "data": {
      "text/plain": [
       "No-show\n",
       "No      2\n",
       "Yes    11\n",
       "Name: Waiting_days, dtype: int64"
      ]
     },
     "execution_count": 33,
     "metadata": {
      "tags": []
     },
     "output_type": "execute_result"
    }
   ],
   "source": [
    "noshow['Waiting_days'] = noshow_waiting.values\n",
    "noshow.groupby('No-show')['Waiting_days'].median()"
   ]
  },
  {
   "cell_type": "code",
   "execution_count": 34,
   "metadata": {
    "colab": {
     "base_uri": "https://localhost:8080/",
     "height": 402
    },
    "colab_type": "code",
    "id": "lN8SscsjZM0Y",
    "outputId": "2e9902b2-1474-4b04-83e8-88b6b3ea75db"
   },
   "outputs": [
    {
     "data": {
      "image/png": "[encoded data removed]",
      "text/plain": [
       "<Figure size 720x432 with 2 Axes>"
      ]
     },
     "metadata": {
      "needs_background": "light",
      "tags": []
     },
     "output_type": "display_data"
    }
   ],
   "source": [
    "mask = noshow['No-show']=='Yes'\n",
    "noshow_df = noshow[mask]\n",
    "show_df = noshow[~mask]\n",
    "\n",
    "fig, (ax1, ax2) = plt.subplots(1, 2, figsize=(10, 6))\n",
    "\n",
    "noshow_df['Waiting_days'].hist(label='Noshow', alpha=0.3, ax=ax1)\n",
    "show_df['Waiting_days'].hist(label='Show', alpha=0.3, ax=ax1)\n",
    "ax1.set(title='Waiting Days histogram by show status', ylabel='Counts', xlabel='Waiting Days')\n",
    "ax1.legend(loc='upper right')\n",
    "ax1.set_facecolor('lightgray')\n",
    "\n",
    "m_ = noshow.boxplot(column=['Waiting_days'], by='No-show', ax=ax2)\n",
    "ax2.set(title='Waiting days boxplot Grouped by No-show', ylabel='Waiting days')\n",
    "plt.suptitle('')\n",
    "save_fig('Waiting_Days_histogram_by show_status')"
   ]
  },
  {
   "cell_type": "markdown",
   "metadata": {
    "colab_type": "text",
    "id": "nm3uTaAzjesP"
   },
   "source": [
    "For those no-show patients, their median waiting time was 11 days, while for the showed patients, their waiting time was 2 days. It indicated the longer the waiting time, the more likely patient decided to skip the appointment."
   ]
  },
  {
   "cell_type": "markdown",
   "metadata": {
    "colab_type": "text",
    "id": "40HWshENmt2g"
   },
   "source": [
    "## No-show status by scholarship\n",
    "\n",
    "**Question: Does the scholarship lead to high no-show chances?**\n"
   ]
  },
  {
   "cell_type": "code",
   "execution_count": 35,
   "metadata": {
    "colab": {
     "base_uri": "https://localhost:8080/",
     "height": 137
    },
    "colab_type": "code",
    "id": "P-avdL-0humd",
    "outputId": "b94aaf94-a388-46e8-964d-dc97c3489582"
   },
   "outputs": [
    {
     "data": {
      "text/html": [
       "<div>\n",
       "<style scoped>\n",
       "    .dataframe tbody tr th:only-of-type {\n",
       "        vertical-align: middle;\n",
       "    }\n",
       "\n",
       "    .dataframe tbody tr th {\n",
       "        vertical-align: top;\n",
       "    }\n",
       "\n",
       "    .dataframe thead th {\n",
       "        text-align: right;\n",
       "    }\n",
       "</style>\n",
       "<table border=\"1\" class=\"dataframe\">\n",
       "  <thead>\n",
       "    <tr style=\"text-align: right;\">\n",
       "      <th>Scholarship</th>\n",
       "      <th>0</th>\n",
       "      <th>1</th>\n",
       "    </tr>\n",
       "    <tr>\n",
       "      <th>No-show</th>\n",
       "      <th></th>\n",
       "      <th></th>\n",
       "    </tr>\n",
       "  </thead>\n",
       "  <tbody>\n",
       "    <tr>\n",
       "      <th>No</th>\n",
       "      <td>0.801983</td>\n",
       "      <td>0.762637</td>\n",
       "    </tr>\n",
       "    <tr>\n",
       "      <th>Yes</th>\n",
       "      <td>0.198017</td>\n",
       "      <td>0.237363</td>\n",
       "    </tr>\n",
       "  </tbody>\n",
       "</table>\n",
       "</div>"
      ],
      "text/plain": [
       "Scholarship         0         1\n",
       "No-show                        \n",
       "No           0.801983  0.762637\n",
       "Yes          0.198017  0.237363"
      ]
     },
     "execution_count": 35,
     "metadata": {
      "tags": []
     },
     "output_type": "execute_result"
    }
   ],
   "source": [
    "scholarship = pd.crosstab(index=noshow['No-show'], columns=noshow['Scholarship'], normalize='columns')\n",
    "scholarship"
   ]
  },
  {
   "cell_type": "code",
   "execution_count": 36,
   "metadata": {
    "colab": {
     "base_uri": "https://localhost:8080/",
     "height": 410
    },
    "colab_type": "code",
    "id": "cH6NgBdZpSnG",
    "outputId": "97e78836-f450-4995-b624-d660e732c1fc"
   },
   "outputs": [
    {
     "data": {
      "image/png": "[encoded data removed]",
      "text/plain": [
       "<Figure size 576x432 with 1 Axes>"
      ]
     },
     "metadata": {
      "needs_background": "light",
      "tags": []
     },
     "output_type": "display_data"
    }
   ],
   "source": [
    "ax = scholarship.plot(kind='bar', figsize=(8, 6))\n",
    "ax.set(title='Barplot of Scholarship by No-show', ylabel='Percentage')\n",
    "save_fig('Barplot_of_Scholarship_by_No-show')"
   ]
  },
  {
   "cell_type": "markdown",
   "metadata": {
    "colab_type": "text",
    "id": "EPcUW0FOrrOt"
   },
   "source": [
    "Patients who are sponsored by scholarship have 23.7% no-show rate, while those who have to pay by themselves entirely have no-show rate for 19.8%, almost 4% less than the sponsored ones. In general, those who need to pay for a service/product are more committed than those don't."
   ]
  },
  {
   "cell_type": "markdown",
   "metadata": {
    "colab_type": "text",
    "id": "U2whHobEuLUe"
   },
   "source": [
    "## No-show status by neighbourhood\n",
    "\n",
    "**Question: Which neighbourhood has the highest no-show counts? Which neighbourhood has the lowest no-show percentage?**\n"
   ]
  },
  {
   "cell_type": "code",
   "execution_count": 37,
   "metadata": {
    "colab": {
     "base_uri": "https://localhost:8080/",
     "height": 34
    },
    "colab_type": "code",
    "id": "SCXLk3dYAYNo",
    "outputId": "20a1320e-cdba-4528-f257-3b045d7bea40"
   },
   "outputs": [
    {
     "data": {
      "text/plain": [
       "81"
      ]
     },
     "execution_count": 37,
     "metadata": {
      "tags": []
     },
     "output_type": "execute_result"
    }
   ],
   "source": [
    "noshow['Neighbourhood'].nunique()"
   ]
  },
  {
   "cell_type": "code",
   "execution_count": 38,
   "metadata": {
    "colab": {
     "base_uri": "https://localhost:8080/",
     "height": 52
    },
    "colab_type": "code",
    "id": "2i0WyBQrFAop",
    "outputId": "df2fba89-238b-4913-9e0b-a25a2310b262"
   },
   "outputs": [
    {
     "name": "stdout",
     "output_type": "stream",
     "text": [
      "Average number of No-show appointment among all neighborhood: 179.0\n",
      "Average No-show percentage among all neighborhood:19.76%\n"
     ]
    }
   ],
   "source": [
    "neighbor = noshow.groupby('No-show')['Neighbourhood'].value_counts().unstack(level='No-show', fill_value=0)\n",
    "neighbor['No-show%'] = ((neighbor['Yes']/neighbor.sum(axis=1))*100).round(2)\n",
    "neighbor['ns%_rank'] = neighbor['No-show%'].rank(method='max', ascending=False) \n",
    "\n",
    "print('Average number of No-show appointment among all neighborhood: {}'.format(neighbor.loc[slice(None), 'Yes'].median()))\n",
    "print('Average No-show percentage among all neighborhood:{}%'.format(neighbor['No-show%'].median()))"
   ]
  },
  {
   "cell_type": "code",
   "execution_count": 41,
   "metadata": {
    "colab": {
     "base_uri": "https://localhost:8080/",
     "height": 245
    },
    "colab_type": "code",
    "id": "0GNjG_oHAmIh",
    "outputId": "0ce37411-0414-4dab-d387-6558569094a0"
   },
   "outputs": [
    {
     "name": "stdout",
     "output_type": "stream",
     "text": [
      "Top 5 Neighborhood Sorted By Number of No Show: \n"
     ]
    },
    {
     "data": {
      "text/html": [
       "<div>\n",
       "<style scoped>\n",
       "    .dataframe tbody tr th:only-of-type {\n",
       "        vertical-align: middle;\n",
       "    }\n",
       "\n",
       "    .dataframe tbody tr th {\n",
       "        vertical-align: top;\n",
       "    }\n",
       "\n",
       "    .dataframe thead th {\n",
       "        text-align: right;\n",
       "    }\n",
       "</style>\n",
       "<table border=\"1\" class=\"dataframe\">\n",
       "  <thead>\n",
       "    <tr style=\"text-align: right;\">\n",
       "      <th>No-show</th>\n",
       "      <th>No</th>\n",
       "      <th>Yes</th>\n",
       "      <th>No-show%</th>\n",
       "      <th>ns%_rank</th>\n",
       "    </tr>\n",
       "    <tr>\n",
       "      <th>Neighbourhood</th>\n",
       "      <th></th>\n",
       "      <th></th>\n",
       "      <th></th>\n",
       "      <th></th>\n",
       "    </tr>\n",
       "  </thead>\n",
       "  <tbody>\n",
       "    <tr>\n",
       "      <th>JARDIM CAMBURI</th>\n",
       "      <td>6252</td>\n",
       "      <td>1465</td>\n",
       "      <td>18.98</td>\n",
       "      <td>51.0</td>\n",
       "    </tr>\n",
       "    <tr>\n",
       "      <th>MARIA ORTIZ</th>\n",
       "      <td>4585</td>\n",
       "      <td>1219</td>\n",
       "      <td>21.00</td>\n",
       "      <td>29.0</td>\n",
       "    </tr>\n",
       "    <tr>\n",
       "      <th>ITARARÉ</th>\n",
       "      <td>2591</td>\n",
       "      <td>923</td>\n",
       "      <td>26.27</td>\n",
       "      <td>5.0</td>\n",
       "    </tr>\n",
       "    <tr>\n",
       "      <th>RESISTÊNCIA</th>\n",
       "      <td>3525</td>\n",
       "      <td>905</td>\n",
       "      <td>20.43</td>\n",
       "      <td>32.0</td>\n",
       "    </tr>\n",
       "    <tr>\n",
       "      <th>CENTRO</th>\n",
       "      <td>2631</td>\n",
       "      <td>703</td>\n",
       "      <td>21.09</td>\n",
       "      <td>26.0</td>\n",
       "    </tr>\n",
       "  </tbody>\n",
       "</table>\n",
       "</div>"
      ],
      "text/plain": [
       "No-show           No   Yes  No-show%  ns%_rank\n",
       "Neighbourhood                                 \n",
       "JARDIM CAMBURI  6252  1465     18.98      51.0\n",
       "MARIA ORTIZ     4585  1219     21.00      29.0\n",
       "ITARARÉ         2591   923     26.27       5.0\n",
       "RESISTÊNCIA     3525   905     20.43      32.0\n",
       "CENTRO          2631   703     21.09      26.0"
      ]
     },
     "metadata": {
      "tags": []
     },
     "output_type": "display_data"
    }
   ],
   "source": [
    "print('Top 5 Neighborhood Sorted By Number of No Show: ')\n",
    "display(neighbor.sort_values(by=['Yes'], ascending=False).head(5))"
   ]
  },
  {
   "cell_type": "markdown",
   "metadata": {
    "colab_type": "text",
    "id": "Lnb-M9nMEbIw"
   },
   "source": [
    "Hospitals located at 'JARDIM CAMBURI' have the highest number of no-show appointments."
   ]
  },
  {
   "cell_type": "code",
   "execution_count": 42,
   "metadata": {
    "colab": {
     "base_uri": "https://localhost:8080/",
     "height": 245
    },
    "colab_type": "code",
    "id": "9qJDqTkyC7sw",
    "outputId": "e86e6dbf-88f5-46d3-803d-bcfc3700235c"
   },
   "outputs": [
    {
     "name": "stdout",
     "output_type": "stream",
     "text": [
      "Top 5 Neighborhood Sorted By Percentage of No Show: \n"
     ]
    },
    {
     "data": {
      "text/html": [
       "<div>\n",
       "<style scoped>\n",
       "    .dataframe tbody tr th:only-of-type {\n",
       "        vertical-align: middle;\n",
       "    }\n",
       "\n",
       "    .dataframe tbody tr th {\n",
       "        vertical-align: top;\n",
       "    }\n",
       "\n",
       "    .dataframe thead th {\n",
       "        text-align: right;\n",
       "    }\n",
       "</style>\n",
       "<table border=\"1\" class=\"dataframe\">\n",
       "  <thead>\n",
       "    <tr style=\"text-align: right;\">\n",
       "      <th>No-show</th>\n",
       "      <th>No</th>\n",
       "      <th>Yes</th>\n",
       "      <th>No-show%</th>\n",
       "      <th>ns%_rank</th>\n",
       "    </tr>\n",
       "    <tr>\n",
       "      <th>Neighbourhood</th>\n",
       "      <th></th>\n",
       "      <th></th>\n",
       "      <th></th>\n",
       "      <th></th>\n",
       "    </tr>\n",
       "  </thead>\n",
       "  <tbody>\n",
       "    <tr>\n",
       "      <th>ILHAS OCEÂNICAS DE TRINDADE</th>\n",
       "      <td>0</td>\n",
       "      <td>2</td>\n",
       "      <td>100.00</td>\n",
       "      <td>1.0</td>\n",
       "    </tr>\n",
       "    <tr>\n",
       "      <th>SANTOS DUMONT</th>\n",
       "      <td>907</td>\n",
       "      <td>369</td>\n",
       "      <td>28.92</td>\n",
       "      <td>2.0</td>\n",
       "    </tr>\n",
       "    <tr>\n",
       "      <th>SANTA CECÍLIA</th>\n",
       "      <td>325</td>\n",
       "      <td>123</td>\n",
       "      <td>27.46</td>\n",
       "      <td>3.0</td>\n",
       "    </tr>\n",
       "    <tr>\n",
       "      <th>SANTA CLARA</th>\n",
       "      <td>372</td>\n",
       "      <td>134</td>\n",
       "      <td>26.48</td>\n",
       "      <td>4.0</td>\n",
       "    </tr>\n",
       "    <tr>\n",
       "      <th>ITARARÉ</th>\n",
       "      <td>2591</td>\n",
       "      <td>923</td>\n",
       "      <td>26.27</td>\n",
       "      <td>5.0</td>\n",
       "    </tr>\n",
       "  </tbody>\n",
       "</table>\n",
       "</div>"
      ],
      "text/plain": [
       "No-show                        No  Yes  No-show%  ns%_rank\n",
       "Neighbourhood                                             \n",
       "ILHAS OCEÂNICAS DE TRINDADE     0    2    100.00       1.0\n",
       "SANTOS DUMONT                 907  369     28.92       2.0\n",
       "SANTA CECÍLIA                 325  123     27.46       3.0\n",
       "SANTA CLARA                   372  134     26.48       4.0\n",
       "ITARARÉ                      2591  923     26.27       5.0"
      ]
     },
     "metadata": {
      "tags": []
     },
     "output_type": "display_data"
    }
   ],
   "source": [
    "print('Top 5 Neighborhood Sorted By Percentage of No Show: ')\n",
    "display(neighbor.sort_values(by=['No-show%'], ascending=False).head(5))"
   ]
  },
  {
   "cell_type": "markdown",
   "metadata": {
    "colab_type": "text",
    "id": "fzA4m0M-Ei09"
   },
   "source": [
    "Hospitals located at 'ILHAS OCEÂNICAS DE TRINDADE' have the highest no-show percentage. However, there were only 2 appointments scheduled in this neighborhood. "
   ]
  },
  {
   "cell_type": "code",
   "execution_count": 43,
   "metadata": {
    "colab": {
     "base_uri": "https://localhost:8080/",
     "height": 245
    },
    "colab_type": "code",
    "id": "WgBdPS3rD_e_",
    "outputId": "c6cb6ac7-f66d-4962-cadb-c93b1650de9d"
   },
   "outputs": [
    {
     "name": "stdout",
     "output_type": "stream",
     "text": [
      "Top 5 Neighborhood Sorted By Percentage of Showed Appointments: \n"
     ]
    },
    {
     "data": {
      "text/html": [
       "<div>\n",
       "<style scoped>\n",
       "    .dataframe tbody tr th:only-of-type {\n",
       "        vertical-align: middle;\n",
       "    }\n",
       "\n",
       "    .dataframe tbody tr th {\n",
       "        vertical-align: top;\n",
       "    }\n",
       "\n",
       "    .dataframe thead th {\n",
       "        text-align: right;\n",
       "    }\n",
       "</style>\n",
       "<table border=\"1\" class=\"dataframe\">\n",
       "  <thead>\n",
       "    <tr style=\"text-align: right;\">\n",
       "      <th>No-show</th>\n",
       "      <th>No</th>\n",
       "      <th>Yes</th>\n",
       "      <th>No-show%</th>\n",
       "      <th>ns%_rank</th>\n",
       "    </tr>\n",
       "    <tr>\n",
       "      <th>Neighbourhood</th>\n",
       "      <th></th>\n",
       "      <th></th>\n",
       "      <th></th>\n",
       "      <th></th>\n",
       "    </tr>\n",
       "  </thead>\n",
       "  <tbody>\n",
       "    <tr>\n",
       "      <th>PARQUE INDUSTRIAL</th>\n",
       "      <td>1</td>\n",
       "      <td>0</td>\n",
       "      <td>0.00</td>\n",
       "      <td>81.0</td>\n",
       "    </tr>\n",
       "    <tr>\n",
       "      <th>ILHA DO BOI</th>\n",
       "      <td>32</td>\n",
       "      <td>3</td>\n",
       "      <td>8.57</td>\n",
       "      <td>80.0</td>\n",
       "    </tr>\n",
       "    <tr>\n",
       "      <th>AEROPORTO</th>\n",
       "      <td>7</td>\n",
       "      <td>1</td>\n",
       "      <td>12.50</td>\n",
       "      <td>79.0</td>\n",
       "    </tr>\n",
       "    <tr>\n",
       "      <th>MÁRIO CYPRESTE</th>\n",
       "      <td>317</td>\n",
       "      <td>54</td>\n",
       "      <td>14.56</td>\n",
       "      <td>78.0</td>\n",
       "    </tr>\n",
       "    <tr>\n",
       "      <th>SOLON BORGES</th>\n",
       "      <td>400</td>\n",
       "      <td>69</td>\n",
       "      <td>14.71</td>\n",
       "      <td>77.0</td>\n",
       "    </tr>\n",
       "  </tbody>\n",
       "</table>\n",
       "</div>"
      ],
      "text/plain": [
       "No-show             No  Yes  No-show%  ns%_rank\n",
       "Neighbourhood                                  \n",
       "PARQUE INDUSTRIAL    1    0      0.00      81.0\n",
       "ILHA DO BOI         32    3      8.57      80.0\n",
       "AEROPORTO            7    1     12.50      79.0\n",
       "MÁRIO CYPRESTE     317   54     14.56      78.0\n",
       "SOLON BORGES       400   69     14.71      77.0"
      ]
     },
     "metadata": {
      "tags": []
     },
     "output_type": "display_data"
    }
   ],
   "source": [
    "print('Top 5 Neighborhood Sorted By Percentage of Showed Appointments: ')\n",
    "display(neighbor.sort_values(by=['No-show%'], ascending=True).head(5))"
   ]
  },
  {
   "cell_type": "markdown",
   "metadata": {
    "colab_type": "text",
    "id": "aKuBtVi1Ew5u"
   },
   "source": [
    "The 5 hospitals with low no-show rate are: PARQUE INDUSTRIAL, ILHA DO BOI, AEROPORTO, MÁRIO CYPRESTE, SOLON BORGES."
   ]
  },
  {
   "cell_type": "markdown",
   "metadata": {
    "colab_type": "text",
    "id": "XcRL9sVvHEGA"
   },
   "source": [
    "## No-show status by disease\n",
    "\n",
    "**Question: Which disease has the highest no-show counts?**"
   ]
  },
  {
   "cell_type": "code",
   "execution_count": 44,
   "metadata": {
    "colab": {
     "base_uri": "https://localhost:8080/",
     "height": 298
    },
    "colab_type": "code",
    "id": "KbFu_k5mHHNU",
    "outputId": "de606576-7c83-497d-94b3-40ac4a965ea5"
   },
   "outputs": [
    {
     "data": {
      "image/png": "[encoded data removed]",
      "text/plain": [
       "<Figure size 1008x288 with 4 Axes>"
      ]
     },
     "metadata": {
      "needs_background": "light",
      "tags": []
     },
     "output_type": "display_data"
    }
   ],
   "source": [
    "synthon = ['Hipertension', 'Diabetes', 'Alcoholism',\t'Handcap']\n",
    "\n",
    "fig, axes = plt.subplots(1, 4, figsize=(14, 4))\n",
    "\n",
    "for i, feature in enumerate(synthon):\n",
    "\n",
    "  grouping = noshow.groupby(feature)['No-show'].value_counts(normalize=True).unstack()\n",
    "  sns.barplot(x=grouping.index, y=grouping['Yes'], ax=axes[i])\n",
    "  axes[i].set(title='No-show Rate by ' + feature + ' type')\n",
    "\n",
    "plt.tight_layout(True)\n",
    "save_fig('No-show_Rate_by_Disease')"
   ]
  },
  {
   "cell_type": "code",
   "execution_count": 45,
   "metadata": {
    "colab": {
     "base_uri": "https://localhost:8080/",
     "height": 123
    },
    "colab_type": "code",
    "id": "GUWZmdbEI0v1",
    "outputId": "e9151070-c543-4741-a6ae-7d24d8e24023"
   },
   "outputs": [
    {
     "data": {
      "text/plain": [
       "0    108279\n",
       "1      2036\n",
       "2       183\n",
       "3        13\n",
       "4         3\n",
       "Name: Handcap, dtype: int64"
      ]
     },
     "execution_count": 45,
     "metadata": {
      "tags": []
     },
     "output_type": "execute_result"
    }
   ],
   "source": [
    "noshow['Handcap'].value_counts()"
   ]
  },
  {
   "cell_type": "markdown",
   "metadata": {
    "colab_type": "text",
    "id": "xkajMHwKIydE"
   },
   "source": [
    "Patients who have 'Hipertension' or 'Diabetes' have lower no-show rate than those don't. 'Alcoholism' appears to have no effect on no-show prediction being equally possible on the outcome. In addition, patiens with type 2, 3, 4 handcap are seemed to have no-show rate greater than 20%, higher than the average population no-show rate at 19.76%."
   ]
  },
  {
   "cell_type": "markdown",
   "metadata": {
    "colab_type": "text",
    "id": "Km9lOnHPLxjP"
   },
   "source": [
    "## No-show status by sms\n",
    "\n",
    "**Question: Does the usage of sms reminder help to lower no-show percentage in general?**"
   ]
  },
  {
   "cell_type": "code",
   "execution_count": 46,
   "metadata": {
    "colab": {
     "base_uri": "https://localhost:8080/",
     "height": 137
    },
    "colab_type": "code",
    "id": "ncGmq6FCM138",
    "outputId": "9b277737-2d08-4ad3-82e4-b270c06a1b1b"
   },
   "outputs": [
    {
     "data": {
      "text/html": [
       "<div>\n",
       "<style scoped>\n",
       "    .dataframe tbody tr th:only-of-type {\n",
       "        vertical-align: middle;\n",
       "    }\n",
       "\n",
       "    .dataframe tbody tr th {\n",
       "        vertical-align: top;\n",
       "    }\n",
       "\n",
       "    .dataframe thead th {\n",
       "        text-align: right;\n",
       "    }\n",
       "</style>\n",
       "<table border=\"1\" class=\"dataframe\">\n",
       "  <thead>\n",
       "    <tr style=\"text-align: right;\">\n",
       "      <th>No-show</th>\n",
       "      <th>No</th>\n",
       "      <th>Yes</th>\n",
       "    </tr>\n",
       "    <tr>\n",
       "      <th>SMS_received</th>\n",
       "      <th></th>\n",
       "      <th></th>\n",
       "    </tr>\n",
       "  </thead>\n",
       "  <tbody>\n",
       "    <tr>\n",
       "      <th>0</th>\n",
       "      <td>0.833047</td>\n",
       "      <td>0.166953</td>\n",
       "    </tr>\n",
       "    <tr>\n",
       "      <th>1</th>\n",
       "      <td>0.724247</td>\n",
       "      <td>0.275753</td>\n",
       "    </tr>\n",
       "  </tbody>\n",
       "</table>\n",
       "</div>"
      ],
      "text/plain": [
       "No-show             No       Yes\n",
       "SMS_received                    \n",
       "0             0.833047  0.166953\n",
       "1             0.724247  0.275753"
      ]
     },
     "execution_count": 46,
     "metadata": {
      "tags": []
     },
     "output_type": "execute_result"
    }
   ],
   "source": [
    "grouping = noshow.groupby('SMS_received')['No-show'].value_counts(normalize='columns').unstack()\n",
    "grouping"
   ]
  },
  {
   "cell_type": "code",
   "execution_count": 47,
   "metadata": {
    "colab": {
     "base_uri": "https://localhost:8080/",
     "height": 401
    },
    "colab_type": "code",
    "id": "gvFbygwHL1lr",
    "outputId": "e0701894-bcc8-4f0c-b32a-b71df2630e4a"
   },
   "outputs": [
    {
     "data": {
      "image/png": "[encoded data removed]",
      "text/plain": [
       "<Figure size 576x432 with 1 Axes>"
      ]
     },
     "metadata": {
      "needs_background": "light",
      "tags": []
     },
     "output_type": "display_data"
    }
   ],
   "source": [
    "ax = grouping.plot(kind='bar', figsize=(8, 6))\n",
    "ax.set(title='No-Show by SMS Received', ylabel='No-show Portion')\n",
    "save_fig('No-Show_by_SMS_Received')"
   ]
  },
  {
   "cell_type": "markdown",
   "metadata": {
    "colab_type": "text",
    "id": "tdtrv8UANf-J"
   },
   "source": [
    "The table and barplots show patients who received sms turned out to have about 30% no-show, while this number was less than 20%. This outcome is quite shocking, because we assumed if patients who are reminded of the appointments should be more likely to turn up for the appointment. Apparently this was not the case. Possible reason is that if patients sign up for sms reminder, they are more likely to depend on the sms, hence not taking responsiblity to remind themselves diligently to attend the appointment."
   ]
  },
  {
   "cell_type": "markdown",
   "metadata": {
    "colab_type": "text",
    "id": "qmHSAN5BSn_n"
   },
   "source": [
    "# Conclusion\n",
    "\n",
    "In this project, I analyzed the no-show status in different scopes, including waiting time, neighborhood, scholarship disease, and sms. In summary, long waiting-time, presence of scholarship, and use of sms service are seemingly destructive to the appoitment attention rate. We also identified the top 5 hospital locations that have the highest no-show rate and the top 5 hospital locations that have no-show rate much lower than average population."
   ]
  },
  {
   "cell_type": "markdown",
   "metadata": {
    "colab_type": "text",
    "id": "VCVzcb4R9Nmd"
   },
   "source": [
    "## Limitations\n",
    "\n",
    "1. Some categorical level have insufficient data to support insights, for example, the collected data amount from different neighborhood is not equally distributed and some neighborhood has only 1 or 2 records. Our insights are likely to be biased based on such small number of records.\n",
    "2. To safely handle erroneous or missing values, we should first have sufficient domain knowledge or evidence to understand the reason behind these mistakes. For example, if data provider clarifies that patients age greater than 100 are not mistake, we cannot just discard them from our dataset."
   ]
  },
  {
   "cell_type": "code",
   "execution_count": 0,
   "metadata": {
    "colab": {},
    "colab_type": "code",
    "id": "JslP8b3G9PFW"
   },
   "outputs": [],
   "source": []
  }
 ],
 "metadata": {
  "colab": {
   "collapsed_sections": [],
   "name": "Medical_Appointment_No_Shows.ipynb",
   "provenance": []
  },
  "kernelspec": {
   "display_name": "Python 3",
   "language": "python",
   "name": "python3"
  },
  "language_info": {
   "codemirror_mode": {
    "name": "ipython",
    "version": 3
   },
   "file_extension": ".py",
   "mimetype": "text/x-python",
   "name": "python",
   "nbconvert_exporter": "python",
   "pygments_lexer": "ipython3",
   "version": "3.6.2"
  }
 },
 "nbformat": 4,
 "nbformat_minor": 1
}
