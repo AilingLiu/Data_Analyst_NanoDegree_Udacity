{
  "nbformat": 4,
  "nbformat_minor": 0,
  "metadata": {
    "colab": {
      "name": "Medical_Appointment_No_Shows.ipynb",
      "provenance": [],
      "collapsed_sections": []
    },
    "kernelspec": {
      "name": "python3",
      "display_name": "Python 3"
    }
  },
  "cells": [
    {
      "cell_type": "markdown",
      "metadata": {
        "id": "emm7KZLBNWeX",
        "colab_type": "text"
      },
      "source": [
        "# Background\n",
        "\n",
        "This project comes from [Kaggle](https://www.kaggle.com/joniarroba/noshowappointments). \n",
        "\n",
        "**Problem Statement**\n",
        "\n",
        "We are interested to identify the possible reasons of no-show patients who had made doctor appointments.\n",
        "\n",
        "**Data Overview**\n",
        "\n",
        "This dataset collects information from 100k medical appointments in Brazil and is focused on the question of whether or not patients show up for their appointment. A number of characteristics about the patient are included in each row.\n",
        "\n",
        "- `ScheduledDay` tells us on what day the patient set up their appointment.\n",
        "- `Neighborhood` indicates the location of the hospital.\n",
        "- `Scholarship` indicates whether or not the patient is enrolled in Brasilian welfare program Bolsa Família.\n",
        "- Be careful about the encoding of the last column: it says ‘No’ if the patient showed up to their appointment, and ‘Yes’ if they did not show up."
      ]
    },
    {
      "cell_type": "code",
      "metadata": {
        "id": "x6sGUEuLNKdM",
        "colab_type": "code",
        "colab": {
          "base_uri": "https://localhost:8080/",
          "height": 52
        },
        "outputId": "2c152939-d876-4a88-d534-920f8358e6d9"
      },
      "source": [
        "import os\n",
        "import matplotlib.pyplot as plt\n",
        "import pandas as pd\n",
        "import numpy as np\n",
        "import seaborn as sns\n",
        "import urllib\n",
        "from IPython.display import display"
      ],
      "execution_count": 1,
      "outputs": [
        {
          "output_type": "stream",
          "text": [
            "/usr/local/lib/python3.6/dist-packages/statsmodels/tools/_testing.py:19: FutureWarning: pandas.util.testing is deprecated. Use the functions in the public API at pandas.testing instead.\n",
            "  import pandas.util.testing as tm\n"
          ],
          "name": "stderr"
        }
      ]
    },
    {
      "cell_type": "code",
      "metadata": {
        "id": "C4CFujsAOMj7",
        "colab_type": "code",
        "colab": {}
      },
      "source": [
        "PROJECT_ROOT = '.'\n",
        "IMAGES = os.path.join(PROJECT_ROOT, 'IMAGES')\n",
        "DATA = os.path.join(PROJECT_ROOT, 'DATASETS')\n",
        "\n",
        "if not os.path.isdir(IMAGES):\n",
        "  os.mkdir(IMAGES)\n",
        "\n",
        "if not os.path.isdir(DATA):\n",
        "  os.mkdir(DATA)\n",
        "\n",
        "def fetch_data(file_url, file_name, path):\n",
        "  if not os.path.isdir(path):\n",
        "    os.mkdir(path)\n",
        "  file_path = os.path.join(path, file_name)\n",
        "  urllib.request.urlretrieve(file_url, file_path)\n",
        "  print('File is downloaded in: ', file_path)\n",
        "\n",
        "def save_fig(image_name, path=IMAGES, dpi=300, fmt='png'):\n",
        "  if not os.path.isdir(path):\n",
        "    os.mkdir(path)\n",
        "  image_path = os.path.join(path, image_name+'.'+fmt)\n",
        "  plt.savefig(image_path, dpi=dpi, format=fmt)"
      ],
      "execution_count": 0,
      "outputs": []
    },
    {
      "cell_type": "markdown",
      "metadata": {
        "id": "gBws0fzAPfNz",
        "colab_type": "text"
      },
      "source": [
        "# Fetch and Load Data"
      ]
    },
    {
      "cell_type": "code",
      "metadata": {
        "id": "Pgwvn_ykOsiR",
        "colab_type": "code",
        "colab": {
          "base_uri": "https://localhost:8080/",
          "height": 34
        },
        "outputId": "553a3ee5-2d79-42b8-bff7-46515dd91739"
      },
      "source": [
        "noshow_url = 'https://d17h27t6h515a5.cloudfront.net/topher/2017/October/59dd2e9a_noshowappointments-kagglev2-may-2016/noshowappointments-kagglev2-may-2016.csv'\n",
        "fetch_data(noshow_url, 'noshow.csv', DATA)"
      ],
      "execution_count": 5,
      "outputs": [
        {
          "output_type": "stream",
          "text": [
            "File is downloaded in:  ./DATASETS/noshow.csv\n"
          ],
          "name": "stdout"
        }
      ]
    },
    {
      "cell_type": "code",
      "metadata": {
        "id": "dbVSd5EKPuRR",
        "colab_type": "code",
        "colab": {
          "base_uri": "https://localhost:8080/",
          "height": 105
        },
        "outputId": "d6ebb487-4707-45c6-e8dd-39b8f7573c57"
      },
      "source": [
        "# check the first 5 rows of data before reading in dataframe\n",
        "!head -5 ./DATASETS/noshow.csv"
      ],
      "execution_count": 6,
      "outputs": [
        {
          "output_type": "stream",
          "text": [
            "PatientId,AppointmentID,Gender,ScheduledDay,AppointmentDay,Age,Neighbourhood,Scholarship,Hipertension,Diabetes,Alcoholism,Handcap,SMS_received,No-show\n",
            "29872499824296,5642903,F,2016-04-29T18:38:08Z,2016-04-29T00:00:00Z,62,JARDIM DA PENHA,0,1,0,0,0,0,No\n",
            "558997776694438,5642503,M,2016-04-29T16:08:27Z,2016-04-29T00:00:00Z,56,JARDIM DA PENHA,0,0,0,0,0,0,No\n",
            "4262962299951,5642549,F,2016-04-29T16:19:04Z,2016-04-29T00:00:00Z,62,MATA DA PRAIA,0,0,0,0,0,0,No\n",
            "867951213174,5642828,F,2016-04-29T17:29:31Z,2016-04-29T00:00:00Z,8,PONTAL DE CAMBURI,0,0,0,0,0,0,No\n"
          ],
          "name": "stdout"
        }
      ]
    },
    {
      "cell_type": "code",
      "metadata": {
        "id": "zDQoLumBP3Aa",
        "colab_type": "code",
        "colab": {}
      },
      "source": [
        "file_path = os.path.join(DATA, 'noshow.csv')\n",
        "def load_nowshow_data(file_path=file_path):\n",
        "  df = pd.read_csv(file_path, parse_dates=['ScheduledDay', 'AppointmentDay'], dtype={'PatientId': 'object', 'AppointmentID': 'object'})\n",
        "  return df\n",
        "\n",
        "noshow = load_nowshow_data()"
      ],
      "execution_count": 0,
      "outputs": []
    },
    {
      "cell_type": "markdown",
      "metadata": {
        "id": "kR4GvvEyR7RO",
        "colab_type": "text"
      },
      "source": [
        "# Data Wrangling"
      ]
    },
    {
      "cell_type": "markdown",
      "metadata": {
        "id": "NeC0-wHFkhP5",
        "colab_type": "text"
      },
      "source": [
        "\n",
        "* General Properties\n"
      ]
    },
    {
      "cell_type": "code",
      "metadata": {
        "id": "eRjW86JnTcDd",
        "colab_type": "code",
        "colab": {
          "base_uri": "https://localhost:8080/",
          "height": 390
        },
        "outputId": "2473368a-8a52-4171-97ae-aceea0f44892"
      },
      "source": [
        "noshow.info()"
      ],
      "execution_count": 15,
      "outputs": [
        {
          "output_type": "stream",
          "text": [
            "<class 'pandas.core.frame.DataFrame'>\n",
            "RangeIndex: 110527 entries, 0 to 110526\n",
            "Data columns (total 14 columns):\n",
            " #   Column          Non-Null Count   Dtype              \n",
            "---  ------          --------------   -----              \n",
            " 0   PatientId       110527 non-null  object             \n",
            " 1   AppointmentID   110527 non-null  object             \n",
            " 2   Gender          110527 non-null  object             \n",
            " 3   ScheduledDay    110527 non-null  datetime64[ns, UTC]\n",
            " 4   AppointmentDay  110527 non-null  datetime64[ns, UTC]\n",
            " 5   Age             110527 non-null  int64              \n",
            " 6   Neighbourhood   110527 non-null  object             \n",
            " 7   Scholarship     110527 non-null  int64              \n",
            " 8   Hipertension    110527 non-null  int64              \n",
            " 9   Diabetes        110527 non-null  int64              \n",
            " 10  Alcoholism      110527 non-null  int64              \n",
            " 11  Handcap         110527 non-null  int64              \n",
            " 12  SMS_received    110527 non-null  int64              \n",
            " 13  No-show         110527 non-null  object             \n",
            "dtypes: datetime64[ns, UTC](2), int64(7), object(5)\n",
            "memory usage: 11.8+ MB\n"
          ],
          "name": "stdout"
        }
      ]
    },
    {
      "cell_type": "code",
      "metadata": {
        "id": "O-jlTnWQQcsi",
        "colab_type": "code",
        "colab": {
          "base_uri": "https://localhost:8080/",
          "height": 197
        },
        "outputId": "0e52d74f-c75f-4db4-9af0-7cf0c9e1bcf3"
      },
      "source": [
        "noshow.head()"
      ],
      "execution_count": 14,
      "outputs": [
        {
          "output_type": "execute_result",
          "data": {
            "text/html": [
              "<div>\n",
              "<style scoped>\n",
              "    .dataframe tbody tr th:only-of-type {\n",
              "        vertical-align: middle;\n",
              "    }\n",
              "\n",
              "    .dataframe tbody tr th {\n",
              "        vertical-align: top;\n",
              "    }\n",
              "\n",
              "    .dataframe thead th {\n",
              "        text-align: right;\n",
              "    }\n",
              "</style>\n",
              "<table border=\"1\" class=\"dataframe\">\n",
              "  <thead>\n",
              "    <tr style=\"text-align: right;\">\n",
              "      <th></th>\n",
              "      <th>PatientId</th>\n",
              "      <th>AppointmentID</th>\n",
              "      <th>Gender</th>\n",
              "      <th>ScheduledDay</th>\n",
              "      <th>AppointmentDay</th>\n",
              "      <th>Age</th>\n",
              "      <th>Neighbourhood</th>\n",
              "      <th>Scholarship</th>\n",
              "      <th>Hipertension</th>\n",
              "      <th>Diabetes</th>\n",
              "      <th>Alcoholism</th>\n",
              "      <th>Handcap</th>\n",
              "      <th>SMS_received</th>\n",
              "      <th>No-show</th>\n",
              "    </tr>\n",
              "  </thead>\n",
              "  <tbody>\n",
              "    <tr>\n",
              "      <th>0</th>\n",
              "      <td>29872499824296</td>\n",
              "      <td>5642903</td>\n",
              "      <td>F</td>\n",
              "      <td>2016-04-29 18:38:08+00:00</td>\n",
              "      <td>2016-04-29 00:00:00+00:00</td>\n",
              "      <td>62</td>\n",
              "      <td>JARDIM DA PENHA</td>\n",
              "      <td>0</td>\n",
              "      <td>1</td>\n",
              "      <td>0</td>\n",
              "      <td>0</td>\n",
              "      <td>0</td>\n",
              "      <td>0</td>\n",
              "      <td>No</td>\n",
              "    </tr>\n",
              "    <tr>\n",
              "      <th>1</th>\n",
              "      <td>558997776694438</td>\n",
              "      <td>5642503</td>\n",
              "      <td>M</td>\n",
              "      <td>2016-04-29 16:08:27+00:00</td>\n",
              "      <td>2016-04-29 00:00:00+00:00</td>\n",
              "      <td>56</td>\n",
              "      <td>JARDIM DA PENHA</td>\n",
              "      <td>0</td>\n",
              "      <td>0</td>\n",
              "      <td>0</td>\n",
              "      <td>0</td>\n",
              "      <td>0</td>\n",
              "      <td>0</td>\n",
              "      <td>No</td>\n",
              "    </tr>\n",
              "    <tr>\n",
              "      <th>2</th>\n",
              "      <td>4262962299951</td>\n",
              "      <td>5642549</td>\n",
              "      <td>F</td>\n",
              "      <td>2016-04-29 16:19:04+00:00</td>\n",
              "      <td>2016-04-29 00:00:00+00:00</td>\n",
              "      <td>62</td>\n",
              "      <td>MATA DA PRAIA</td>\n",
              "      <td>0</td>\n",
              "      <td>0</td>\n",
              "      <td>0</td>\n",
              "      <td>0</td>\n",
              "      <td>0</td>\n",
              "      <td>0</td>\n",
              "      <td>No</td>\n",
              "    </tr>\n",
              "    <tr>\n",
              "      <th>3</th>\n",
              "      <td>867951213174</td>\n",
              "      <td>5642828</td>\n",
              "      <td>F</td>\n",
              "      <td>2016-04-29 17:29:31+00:00</td>\n",
              "      <td>2016-04-29 00:00:00+00:00</td>\n",
              "      <td>8</td>\n",
              "      <td>PONTAL DE CAMBURI</td>\n",
              "      <td>0</td>\n",
              "      <td>0</td>\n",
              "      <td>0</td>\n",
              "      <td>0</td>\n",
              "      <td>0</td>\n",
              "      <td>0</td>\n",
              "      <td>No</td>\n",
              "    </tr>\n",
              "    <tr>\n",
              "      <th>4</th>\n",
              "      <td>8841186448183</td>\n",
              "      <td>5642494</td>\n",
              "      <td>F</td>\n",
              "      <td>2016-04-29 16:07:23+00:00</td>\n",
              "      <td>2016-04-29 00:00:00+00:00</td>\n",
              "      <td>56</td>\n",
              "      <td>JARDIM DA PENHA</td>\n",
              "      <td>0</td>\n",
              "      <td>1</td>\n",
              "      <td>1</td>\n",
              "      <td>0</td>\n",
              "      <td>0</td>\n",
              "      <td>0</td>\n",
              "      <td>No</td>\n",
              "    </tr>\n",
              "  </tbody>\n",
              "</table>\n",
              "</div>"
            ],
            "text/plain": [
              "         PatientId AppointmentID Gender  ... Handcap SMS_received  No-show\n",
              "0   29872499824296       5642903      F  ...       0            0       No\n",
              "1  558997776694438       5642503      M  ...       0            0       No\n",
              "2    4262962299951       5642549      F  ...       0            0       No\n",
              "3     867951213174       5642828      F  ...       0            0       No\n",
              "4    8841186448183       5642494      F  ...       0            0       No\n",
              "\n",
              "[5 rows x 14 columns]"
            ]
          },
          "metadata": {
            "tags": []
          },
          "execution_count": 14
        }
      ]
    },
    {
      "cell_type": "code",
      "metadata": {
        "id": "H7rzhRPlT6rF",
        "colab_type": "code",
        "colab": {
          "base_uri": "https://localhost:8080/",
          "height": 34
        },
        "outputId": "bf1ff43d-ca12-4956-e817-4f423e7f65e7"
      },
      "source": [
        "noshow.duplicated().any()"
      ],
      "execution_count": 17,
      "outputs": [
        {
          "output_type": "execute_result",
          "data": {
            "text/plain": [
              "False"
            ]
          },
          "metadata": {
            "tags": []
          },
          "execution_count": 17
        }
      ]
    },
    {
      "cell_type": "markdown",
      "metadata": {
        "id": "uu9HNuQiTXdO",
        "colab_type": "text"
      },
      "source": [
        "There are 110,527 rows, and 14 columns in this dataset. There appeares to be no missing values. The columns consists of datatime, numerical and categorical types. There are no duplicated rows."
      ]
    },
    {
      "cell_type": "markdown",
      "metadata": {
        "id": "N4CekfFSkkLd",
        "colab_type": "text"
      },
      "source": [
        "* Data cleaning"
      ]
    },
    {
      "cell_type": "code",
      "metadata": {
        "id": "krCdwPXHj6rP",
        "colab_type": "code",
        "colab": {
          "base_uri": "https://localhost:8080/",
          "height": 197
        },
        "outputId": "d2ceb408-ddcd-4432-9aaa-76c8f7b86325"
      },
      "source": [
        "mask = noshow['AppointmentDay'].dt.date < noshow['ScheduledDay'].dt.date\n",
        "\n",
        "noshow[mask]"
      ],
      "execution_count": 88,
      "outputs": [
        {
          "output_type": "execute_result",
          "data": {
            "text/html": [
              "<div>\n",
              "<style scoped>\n",
              "    .dataframe tbody tr th:only-of-type {\n",
              "        vertical-align: middle;\n",
              "    }\n",
              "\n",
              "    .dataframe tbody tr th {\n",
              "        vertical-align: top;\n",
              "    }\n",
              "\n",
              "    .dataframe thead th {\n",
              "        text-align: right;\n",
              "    }\n",
              "</style>\n",
              "<table border=\"1\" class=\"dataframe\">\n",
              "  <thead>\n",
              "    <tr style=\"text-align: right;\">\n",
              "      <th></th>\n",
              "      <th>PatientId</th>\n",
              "      <th>AppointmentID</th>\n",
              "      <th>Gender</th>\n",
              "      <th>ScheduledDay</th>\n",
              "      <th>AppointmentDay</th>\n",
              "      <th>Age</th>\n",
              "      <th>Neighbourhood</th>\n",
              "      <th>Scholarship</th>\n",
              "      <th>Hipertension</th>\n",
              "      <th>Diabetes</th>\n",
              "      <th>Alcoholism</th>\n",
              "      <th>Handcap</th>\n",
              "      <th>SMS_received</th>\n",
              "      <th>No-show</th>\n",
              "      <th>Waiting_days</th>\n",
              "    </tr>\n",
              "  </thead>\n",
              "  <tbody>\n",
              "    <tr>\n",
              "      <th>27033</th>\n",
              "      <td>7839272661752</td>\n",
              "      <td>5679978</td>\n",
              "      <td>M</td>\n",
              "      <td>2016-05-10 10:51:53+00:00</td>\n",
              "      <td>2016-05-09 00:00:00+00:00</td>\n",
              "      <td>38</td>\n",
              "      <td>RESISTÊNCIA</td>\n",
              "      <td>0</td>\n",
              "      <td>0</td>\n",
              "      <td>0</td>\n",
              "      <td>0</td>\n",
              "      <td>1</td>\n",
              "      <td>0</td>\n",
              "      <td>Yes</td>\n",
              "      <td>-1</td>\n",
              "    </tr>\n",
              "    <tr>\n",
              "      <th>55226</th>\n",
              "      <td>7896293967868</td>\n",
              "      <td>5715660</td>\n",
              "      <td>F</td>\n",
              "      <td>2016-05-18 14:50:41+00:00</td>\n",
              "      <td>2016-05-17 00:00:00+00:00</td>\n",
              "      <td>19</td>\n",
              "      <td>SANTO ANTÔNIO</td>\n",
              "      <td>0</td>\n",
              "      <td>0</td>\n",
              "      <td>0</td>\n",
              "      <td>0</td>\n",
              "      <td>1</td>\n",
              "      <td>0</td>\n",
              "      <td>Yes</td>\n",
              "      <td>-1</td>\n",
              "    </tr>\n",
              "    <tr>\n",
              "      <th>64175</th>\n",
              "      <td>24252258389979</td>\n",
              "      <td>5664962</td>\n",
              "      <td>F</td>\n",
              "      <td>2016-05-05 13:43:58+00:00</td>\n",
              "      <td>2016-05-04 00:00:00+00:00</td>\n",
              "      <td>22</td>\n",
              "      <td>CONSOLAÇÃO</td>\n",
              "      <td>0</td>\n",
              "      <td>0</td>\n",
              "      <td>0</td>\n",
              "      <td>0</td>\n",
              "      <td>0</td>\n",
              "      <td>0</td>\n",
              "      <td>Yes</td>\n",
              "      <td>-1</td>\n",
              "    </tr>\n",
              "    <tr>\n",
              "      <th>71533</th>\n",
              "      <td>998231581612122</td>\n",
              "      <td>5686628</td>\n",
              "      <td>F</td>\n",
              "      <td>2016-05-11 13:49:20+00:00</td>\n",
              "      <td>2016-05-05 00:00:00+00:00</td>\n",
              "      <td>81</td>\n",
              "      <td>SANTO ANTÔNIO</td>\n",
              "      <td>0</td>\n",
              "      <td>0</td>\n",
              "      <td>0</td>\n",
              "      <td>0</td>\n",
              "      <td>0</td>\n",
              "      <td>0</td>\n",
              "      <td>Yes</td>\n",
              "      <td>-6</td>\n",
              "    </tr>\n",
              "    <tr>\n",
              "      <th>72362</th>\n",
              "      <td>3787481966821</td>\n",
              "      <td>5655637</td>\n",
              "      <td>M</td>\n",
              "      <td>2016-05-04 06:50:57+00:00</td>\n",
              "      <td>2016-05-03 00:00:00+00:00</td>\n",
              "      <td>7</td>\n",
              "      <td>TABUAZEIRO</td>\n",
              "      <td>0</td>\n",
              "      <td>0</td>\n",
              "      <td>0</td>\n",
              "      <td>0</td>\n",
              "      <td>0</td>\n",
              "      <td>0</td>\n",
              "      <td>Yes</td>\n",
              "      <td>-1</td>\n",
              "    </tr>\n",
              "  </tbody>\n",
              "</table>\n",
              "</div>"
            ],
            "text/plain": [
              "             PatientId AppointmentID Gender  ... SMS_received No-show  Waiting_days\n",
              "27033    7839272661752       5679978      M  ...            0     Yes            -1\n",
              "55226    7896293967868       5715660      F  ...            0     Yes            -1\n",
              "64175   24252258389979       5664962      F  ...            0     Yes            -1\n",
              "71533  998231581612122       5686628      F  ...            0     Yes            -6\n",
              "72362    3787481966821       5655637      M  ...            0     Yes            -1\n",
              "\n",
              "[5 rows x 15 columns]"
            ]
          },
          "metadata": {
            "tags": []
          },
          "execution_count": 88
        }
      ]
    },
    {
      "cell_type": "markdown",
      "metadata": {
        "id": "B3NesN1UkmQw",
        "colab_type": "text"
      },
      "source": [
        "There are 5 records show that patients' appointment day ahead of schedule day. This would be possible when it is emergency treatment and later on record their appointment date. But in this scenario, the No-show status would be 'No' instead of yes.\n",
        "\n",
        "To mitigate obscure information, I decide to drop these records from the dataset."
      ]
    },
    {
      "cell_type": "code",
      "metadata": {
        "id": "mDXZWG6BlMCW",
        "colab_type": "code",
        "colab": {}
      },
      "source": [
        "inds = noshow[mask].index.values\n",
        "noshow.drop(index=inds, axis=0, inplace=True)"
      ],
      "execution_count": 0,
      "outputs": []
    },
    {
      "cell_type": "markdown",
      "metadata": {
        "id": "bXz8quZYSEh0",
        "colab_type": "text"
      },
      "source": [
        "# Exploratory Data Analysis\n",
        "\n",
        "* What is the percentage of no-show in the entire dataset?\n",
        "* Does the waiting time between schedule day and appointment day affect no-show portions?\n",
        "* Does the scholarship lead to high no-show chances?\n",
        "* Which neighbourhood has the highest no-show counts?\n",
        "* Which disease has the highest no-show counts? \n",
        "* Does the usage of sms reminder help to lower no-show rate?"
      ]
    },
    {
      "cell_type": "markdown",
      "metadata": {
        "id": "rmeWqihRd1tR",
        "colab_type": "text"
      },
      "source": [
        "## No-show Status\n",
        "\n",
        "**Question: What is the percentage of no-show in the entire dataset?**"
      ]
    },
    {
      "cell_type": "code",
      "metadata": {
        "id": "YZRFOLUUd37n",
        "colab_type": "code",
        "colab": {
          "base_uri": "https://localhost:8080/",
          "height": 356
        },
        "outputId": "296f71cc-14a1-4f48-a1d5-f92e49e6f92d"
      },
      "source": [
        "noshow['No-show'].value_counts().plot(kind='pie', autopct='%.2f', figsize=(8, 6))\n",
        "save_fig('Pie_of_No_Show_Stauts')"
      ],
      "execution_count": 170,
      "outputs": [
        {
          "output_type": "display_data",
          "data": {
            "image/png": "[encoded data removed]",
            "text/plain": [
              "<Figure size 576x432 with 1 Axes>"
            ]
          },
          "metadata": {
            "tags": []
          }
        }
      ]
    },
    {
      "cell_type": "markdown",
      "metadata": {
        "id": "L3zpoK5weEiC",
        "colab_type": "text"
      },
      "source": [
        "79.81% patients showed up for the appointment, and 20.19% of patients did not show up."
      ]
    },
    {
      "cell_type": "markdown",
      "metadata": {
        "id": "gmswKJ2OWhoN",
        "colab_type": "text"
      },
      "source": [
        "## No-show status by Waiting Time\n",
        "\n",
        "**Questions: How long is the average waiting time in days?**"
      ]
    },
    {
      "cell_type": "code",
      "metadata": {
        "id": "mAPLNldFVQ1v",
        "colab_type": "code",
        "colab": {
          "base_uri": "https://localhost:8080/",
          "height": 404
        },
        "outputId": "60501298-2b40-494e-b077-1a3bd73f7622"
      },
      "source": [
        "noshow_waiting = (noshow['AppointmentDay'].dt.date- noshow['ScheduledDay'].dt.date).dt.days\n",
        "\n",
        "fig, (ax1, ax2) = plt.subplots(1, 2, figsize=(10, 6))\n",
        "noshow_waiting.hist(ax=ax1)\n",
        "ax1.set(title='Histogram of Waiting Days', xlabel='Waiting Days', ylabel='Counts')\n",
        "noshow_waiting.plot(kind='box', ax=ax2)\n",
        "ax2.set(title='Boxplot of Waiting Days', ylabel='Waiting Days')\n",
        "\n",
        "save_fig('Plots_of_Waiting_Days')"
      ],
      "execution_count": 96,
      "outputs": [
        {
          "output_type": "display_data",
          "data": {
            "image/png": "[encoded data removed]",
            "text/plain": [
              "<Figure size 720x432 with 2 Axes>"
            ]
          },
          "metadata": {
            "tags": [],
            "needs_background": "light"
          }
        }
      ]
    },
    {
      "cell_type": "code",
      "metadata": {
        "id": "q2d7r7VDYh2Z",
        "colab_type": "code",
        "colab": {
          "base_uri": "https://localhost:8080/",
          "height": 176
        },
        "outputId": "b5c6cf31-9ba0-4f0b-fe96-aa7d03f9daa4"
      },
      "source": [
        "noshow_waiting.describe()"
      ],
      "execution_count": 97,
      "outputs": [
        {
          "output_type": "execute_result",
          "data": {
            "text/plain": [
              "count    110522.000000\n",
              "mean         10.184253\n",
              "std          15.255115\n",
              "min           0.000000\n",
              "25%           0.000000\n",
              "50%           4.000000\n",
              "75%          15.000000\n",
              "max         179.000000\n",
              "dtype: float64"
            ]
          },
          "metadata": {
            "tags": []
          },
          "execution_count": 97
        }
      ]
    },
    {
      "cell_type": "markdown",
      "metadata": {
        "id": "X1z3hwl9XZYw",
        "colab_type": "text"
      },
      "source": [
        "The above histogram shows waiting days distribution being right skewed. The median waiting time is 4 days, but there are 25% of patients need to wait between 4 days to 15 days, and another 25% of patients wait more than 2 weeks. There are a number of outliers at the higer end, indicating some patients wait for a significant long time before attending the appointment."
      ]
    },
    {
      "cell_type": "markdown",
      "metadata": {
        "id": "DKjE79IGVCOM",
        "colab_type": "text"
      },
      "source": [
        "**Question: How does the waiting time between schedule day and appointment day affect no-show percentage?**"
      ]
    },
    {
      "cell_type": "code",
      "metadata": {
        "id": "GsOX8Hp1mQdc",
        "colab_type": "code",
        "colab": {
          "base_uri": "https://localhost:8080/",
          "height": 87
        },
        "outputId": "c72d19d3-cdf2-4395-9d76-afbd2825d6fb"
      },
      "source": [
        "noshow.groupby('No-show')['Waiting_days'].median()"
      ],
      "execution_count": 98,
      "outputs": [
        {
          "output_type": "execute_result",
          "data": {
            "text/plain": [
              "No-show\n",
              "No      2\n",
              "Yes    11\n",
              "Name: Waiting_days, dtype: int64"
            ]
          },
          "metadata": {
            "tags": []
          },
          "execution_count": 98
        }
      ]
    },
    {
      "cell_type": "code",
      "metadata": {
        "id": "lN8SscsjZM0Y",
        "colab_type": "code",
        "colab": {
          "base_uri": "https://localhost:8080/",
          "height": 402
        },
        "outputId": "c4410d70-15d2-4830-e3b4-2d26258802b6"
      },
      "source": [
        "noshow['Waiting_days'] = noshow_waiting.values\n",
        "mask = noshow['No-show']=='Yes'\n",
        "noshow_df = noshow[mask]\n",
        "show_df = noshow[~mask]\n",
        "\n",
        "fig, (ax1, ax2) = plt.subplots(1, 2, figsize=(10, 6))\n",
        "\n",
        "noshow_df['Waiting_days'].hist(label='Noshow', alpha=0.3, ax=ax1)\n",
        "show_df['Waiting_days'].hist(label='Show', alpha=0.3, ax=ax1)\n",
        "ax1.set(title='Waiting Days histogram by show status', ylabel='Counts', xlabel='Waiting Days')\n",
        "ax1.legend(loc='upper right')\n",
        "ax1.set_facecolor('lightgray')\n",
        "\n",
        "m_ = noshow.boxplot(column=['Waiting_days'], by='No-show', ax=ax2)\n",
        "ax2.set(title='Waiting days boxplot Grouped by No-show', ylabel='Waiting days')\n",
        "plt.suptitle('')\n",
        "save_fig('Waiting_Days_histogram_by show_status')"
      ],
      "execution_count": 85,
      "outputs": [
        {
          "output_type": "display_data",
          "data": {
            "image/png": "[encoded data removed]",
            "text/plain": [
              "<Figure size 720x432 with 2 Axes>"
            ]
          },
          "metadata": {
            "tags": [],
            "needs_background": "light"
          }
        }
      ]
    },
    {
      "cell_type": "markdown",
      "metadata": {
        "id": "nm3uTaAzjesP",
        "colab_type": "text"
      },
      "source": [
        "For those no-show patients, their median waiting time was 11 days, while for the showed patients, their waiting time was 2 days. It indicated the longer the waiting time, the more likely patient decided to skip the appointment."
      ]
    },
    {
      "cell_type": "markdown",
      "metadata": {
        "id": "40HWshENmt2g",
        "colab_type": "text"
      },
      "source": [
        "## No-show status by scholarship\n",
        "\n",
        "**Question: Does the scholarship lead to high no-show chances?**\n"
      ]
    },
    {
      "cell_type": "code",
      "metadata": {
        "id": "P-avdL-0humd",
        "colab_type": "code",
        "colab": {
          "base_uri": "https://localhost:8080/",
          "height": 137
        },
        "outputId": "2bf8fcb1-3738-4378-e41d-dbfc1c2d113c"
      },
      "source": [
        "scholarship = pd.crosstab(index=noshow['No-show'], columns=noshow['Scholarship'], normalize='columns')\n",
        "scholarship"
      ],
      "execution_count": 115,
      "outputs": [
        {
          "output_type": "execute_result",
          "data": {
            "text/html": [
              "<div>\n",
              "<style scoped>\n",
              "    .dataframe tbody tr th:only-of-type {\n",
              "        vertical-align: middle;\n",
              "    }\n",
              "\n",
              "    .dataframe tbody tr th {\n",
              "        vertical-align: top;\n",
              "    }\n",
              "\n",
              "    .dataframe thead th {\n",
              "        text-align: right;\n",
              "    }\n",
              "</style>\n",
              "<table border=\"1\" class=\"dataframe\">\n",
              "  <thead>\n",
              "    <tr style=\"text-align: right;\">\n",
              "      <th>Scholarship</th>\n",
              "      <th>0</th>\n",
              "      <th>1</th>\n",
              "    </tr>\n",
              "    <tr>\n",
              "      <th>No-show</th>\n",
              "      <th></th>\n",
              "      <th></th>\n",
              "    </tr>\n",
              "  </thead>\n",
              "  <tbody>\n",
              "    <tr>\n",
              "      <th>No</th>\n",
              "      <td>0.801969</td>\n",
              "      <td>0.762637</td>\n",
              "    </tr>\n",
              "    <tr>\n",
              "      <th>Yes</th>\n",
              "      <td>0.198031</td>\n",
              "      <td>0.237363</td>\n",
              "    </tr>\n",
              "  </tbody>\n",
              "</table>\n",
              "</div>"
            ],
            "text/plain": [
              "Scholarship         0         1\n",
              "No-show                        \n",
              "No           0.801969  0.762637\n",
              "Yes          0.198031  0.237363"
            ]
          },
          "metadata": {
            "tags": []
          },
          "execution_count": 115
        }
      ]
    },
    {
      "cell_type": "code",
      "metadata": {
        "id": "cH6NgBdZpSnG",
        "colab_type": "code",
        "colab": {
          "base_uri": "https://localhost:8080/",
          "height": 410
        },
        "outputId": "6877e3b1-3d2a-4f1b-edd7-c44e0d68e0ed"
      },
      "source": [
        "ax = scholarship.plot(kind='bar', figsize=(8, 6))\n",
        "ax.set(title='Barplot of Scholarship by No-show', ylabel='Percentage')\n",
        "save_fig('Barplot_of_Scholarship_by_No-show')"
      ],
      "execution_count": 117,
      "outputs": [
        {
          "output_type": "display_data",
          "data": {
            "image/png": "[encoded data removed]",
            "text/plain": [
              "<Figure size 576x432 with 1 Axes>"
            ]
          },
          "metadata": {
            "tags": [],
            "needs_background": "light"
          }
        }
      ]
    },
    {
      "cell_type": "markdown",
      "metadata": {
        "id": "EPcUW0FOrrOt",
        "colab_type": "text"
      },
      "source": [
        "Patients who are sponsored by scholarship have 23.7% no-show rate, while those who have to pay by themselves entirely have no-show rate for 19.8%, almost 4% less than the sponsored ones. In general, those who need to pay for a service/product are more committed than those don't."
      ]
    },
    {
      "cell_type": "markdown",
      "metadata": {
        "id": "U2whHobEuLUe",
        "colab_type": "text"
      },
      "source": [
        "## No-show status by neighbourhood\n",
        "\n",
        "**Question: Which neighbourhood has the highest no-show counts? Which neighbourhood has the lowest no-show percentage?**\n"
      ]
    },
    {
      "cell_type": "code",
      "metadata": {
        "id": "SCXLk3dYAYNo",
        "colab_type": "code",
        "colab": {
          "base_uri": "https://localhost:8080/",
          "height": 34
        },
        "outputId": "dc4cbbb9-e3e8-4769-f010-50ac349c63cd"
      },
      "source": [
        "noshow['Neighbourhood'].nunique()"
      ],
      "execution_count": 132,
      "outputs": [
        {
          "output_type": "execute_result",
          "data": {
            "text/plain": [
              "81"
            ]
          },
          "metadata": {
            "tags": []
          },
          "execution_count": 132
        }
      ]
    },
    {
      "cell_type": "code",
      "metadata": {
        "id": "2i0WyBQrFAop",
        "colab_type": "code",
        "colab": {
          "base_uri": "https://localhost:8080/",
          "height": 52
        },
        "outputId": "1dfa4f35-8374-408b-983c-2f7a2dd496a7"
      },
      "source": [
        "neighbor = noshow.groupby('No-show')['Neighbourhood'].value_counts().unstack(level='No-show', fill_value=0)\n",
        "neighbor['No-show%'] = ((neighbor['Yes']/neighbor.sum(axis=1))*100).round(2)\n",
        "neighbor['ns%_rank'] = neighbor['No-show%'].rank(method='max', ascending=False) \n",
        "\n",
        "print('Average number of No-show appointment among all neighborhood: {}'.format(neighbor.loc[slice(None), 'Yes'].median()))\n",
        "print('Average No-show percentage among all neighborhood:{}%'.format(neighbor['No-show%'].median()))"
      ],
      "execution_count": 149,
      "outputs": [
        {
          "output_type": "stream",
          "text": [
            "Average number of No-show appointment among all neighborhood: 179.0\n",
            "Average No-show percentage among all neighborhood:19.76%\n"
          ],
          "name": "stdout"
        }
      ]
    },
    {
      "cell_type": "code",
      "metadata": {
        "id": "0GNjG_oHAmIh",
        "colab_type": "code",
        "colab": {
          "base_uri": "https://localhost:8080/",
          "height": 245
        },
        "outputId": "385ad7db-b0cd-46f9-bc12-bd492c91c418"
      },
      "source": [
        "print('Top 5 Sorted By Number of No Show: ')\n",
        "display(neighbor.sort_values(by=['Yes'], ascending=False).head(5))"
      ],
      "execution_count": 137,
      "outputs": [
        {
          "output_type": "stream",
          "text": [
            "Top 5 Sorted By Number of No Show: \n"
          ],
          "name": "stdout"
        },
        {
          "output_type": "display_data",
          "data": {
            "text/html": [
              "<div>\n",
              "<style scoped>\n",
              "    .dataframe tbody tr th:only-of-type {\n",
              "        vertical-align: middle;\n",
              "    }\n",
              "\n",
              "    .dataframe tbody tr th {\n",
              "        vertical-align: top;\n",
              "    }\n",
              "\n",
              "    .dataframe thead th {\n",
              "        text-align: right;\n",
              "    }\n",
              "</style>\n",
              "<table border=\"1\" class=\"dataframe\">\n",
              "  <thead>\n",
              "    <tr style=\"text-align: right;\">\n",
              "      <th>No-show</th>\n",
              "      <th>No</th>\n",
              "      <th>Yes</th>\n",
              "      <th>No-show%</th>\n",
              "      <th>ns%_rank</th>\n",
              "    </tr>\n",
              "    <tr>\n",
              "      <th>Neighbourhood</th>\n",
              "      <th></th>\n",
              "      <th></th>\n",
              "      <th></th>\n",
              "      <th></th>\n",
              "    </tr>\n",
              "  </thead>\n",
              "  <tbody>\n",
              "    <tr>\n",
              "      <th>JARDIM CAMBURI</th>\n",
              "      <td>6252</td>\n",
              "      <td>1465</td>\n",
              "      <td>18.98</td>\n",
              "      <td>51.0</td>\n",
              "    </tr>\n",
              "    <tr>\n",
              "      <th>MARIA ORTIZ</th>\n",
              "      <td>4586</td>\n",
              "      <td>1219</td>\n",
              "      <td>21.00</td>\n",
              "      <td>29.0</td>\n",
              "    </tr>\n",
              "    <tr>\n",
              "      <th>ITARARÉ</th>\n",
              "      <td>2591</td>\n",
              "      <td>923</td>\n",
              "      <td>26.27</td>\n",
              "      <td>5.0</td>\n",
              "    </tr>\n",
              "    <tr>\n",
              "      <th>RESISTÊNCIA</th>\n",
              "      <td>3525</td>\n",
              "      <td>905</td>\n",
              "      <td>20.43</td>\n",
              "      <td>32.0</td>\n",
              "    </tr>\n",
              "    <tr>\n",
              "      <th>CENTRO</th>\n",
              "      <td>2631</td>\n",
              "      <td>703</td>\n",
              "      <td>21.09</td>\n",
              "      <td>26.0</td>\n",
              "    </tr>\n",
              "  </tbody>\n",
              "</table>\n",
              "</div>"
            ],
            "text/plain": [
              "No-show           No   Yes  No-show%  ns%_rank\n",
              "Neighbourhood                                 \n",
              "JARDIM CAMBURI  6252  1465     18.98      51.0\n",
              "MARIA ORTIZ     4586  1219     21.00      29.0\n",
              "ITARARÉ         2591   923     26.27       5.0\n",
              "RESISTÊNCIA     3525   905     20.43      32.0\n",
              "CENTRO          2631   703     21.09      26.0"
            ]
          },
          "metadata": {
            "tags": []
          }
        }
      ]
    },
    {
      "cell_type": "markdown",
      "metadata": {
        "id": "Lnb-M9nMEbIw",
        "colab_type": "text"
      },
      "source": [
        "Hospitals located at 'JARDIM CAMBURI' have the highest number of no-show appointments."
      ]
    },
    {
      "cell_type": "code",
      "metadata": {
        "id": "9qJDqTkyC7sw",
        "colab_type": "code",
        "colab": {
          "base_uri": "https://localhost:8080/",
          "height": 245
        },
        "outputId": "5ecb53f5-82e8-4996-877f-cfe005da3ec3"
      },
      "source": [
        "print('Top 5 Sorted By Percentage of No Show: ')\n",
        "display(neighbor.sort_values(by=['No-show%'], ascending=False).head(5))"
      ],
      "execution_count": 138,
      "outputs": [
        {
          "output_type": "stream",
          "text": [
            "Top 5 Sorted By Percentage of No Show: \n"
          ],
          "name": "stdout"
        },
        {
          "output_type": "display_data",
          "data": {
            "text/html": [
              "<div>\n",
              "<style scoped>\n",
              "    .dataframe tbody tr th:only-of-type {\n",
              "        vertical-align: middle;\n",
              "    }\n",
              "\n",
              "    .dataframe tbody tr th {\n",
              "        vertical-align: top;\n",
              "    }\n",
              "\n",
              "    .dataframe thead th {\n",
              "        text-align: right;\n",
              "    }\n",
              "</style>\n",
              "<table border=\"1\" class=\"dataframe\">\n",
              "  <thead>\n",
              "    <tr style=\"text-align: right;\">\n",
              "      <th>No-show</th>\n",
              "      <th>No</th>\n",
              "      <th>Yes</th>\n",
              "      <th>No-show%</th>\n",
              "      <th>ns%_rank</th>\n",
              "    </tr>\n",
              "    <tr>\n",
              "      <th>Neighbourhood</th>\n",
              "      <th></th>\n",
              "      <th></th>\n",
              "      <th></th>\n",
              "      <th></th>\n",
              "    </tr>\n",
              "  </thead>\n",
              "  <tbody>\n",
              "    <tr>\n",
              "      <th>ILHAS OCEÂNICAS DE TRINDADE</th>\n",
              "      <td>0</td>\n",
              "      <td>2</td>\n",
              "      <td>100.00</td>\n",
              "      <td>1.0</td>\n",
              "    </tr>\n",
              "    <tr>\n",
              "      <th>SANTOS DUMONT</th>\n",
              "      <td>907</td>\n",
              "      <td>369</td>\n",
              "      <td>28.92</td>\n",
              "      <td>2.0</td>\n",
              "    </tr>\n",
              "    <tr>\n",
              "      <th>SANTA CECÍLIA</th>\n",
              "      <td>325</td>\n",
              "      <td>123</td>\n",
              "      <td>27.46</td>\n",
              "      <td>3.0</td>\n",
              "    </tr>\n",
              "    <tr>\n",
              "      <th>SANTA CLARA</th>\n",
              "      <td>372</td>\n",
              "      <td>134</td>\n",
              "      <td>26.48</td>\n",
              "      <td>4.0</td>\n",
              "    </tr>\n",
              "    <tr>\n",
              "      <th>ITARARÉ</th>\n",
              "      <td>2591</td>\n",
              "      <td>923</td>\n",
              "      <td>26.27</td>\n",
              "      <td>5.0</td>\n",
              "    </tr>\n",
              "  </tbody>\n",
              "</table>\n",
              "</div>"
            ],
            "text/plain": [
              "No-show                        No  Yes  No-show%  ns%_rank\n",
              "Neighbourhood                                             \n",
              "ILHAS OCEÂNICAS DE TRINDADE     0    2    100.00       1.0\n",
              "SANTOS DUMONT                 907  369     28.92       2.0\n",
              "SANTA CECÍLIA                 325  123     27.46       3.0\n",
              "SANTA CLARA                   372  134     26.48       4.0\n",
              "ITARARÉ                      2591  923     26.27       5.0"
            ]
          },
          "metadata": {
            "tags": []
          }
        }
      ]
    },
    {
      "cell_type": "markdown",
      "metadata": {
        "id": "fzA4m0M-Ei09",
        "colab_type": "text"
      },
      "source": [
        "Hospitals located at 'ILHAS OCEÂNICAS DE TRINDADE' have the highest no-show percentage. However, there were only 2 appointments scheduled in this neighborhood. "
      ]
    },
    {
      "cell_type": "code",
      "metadata": {
        "id": "WgBdPS3rD_e_",
        "colab_type": "code",
        "colab": {
          "base_uri": "https://localhost:8080/",
          "height": 245
        },
        "outputId": "b3fb7530-d795-4423-ee05-00789e102c30"
      },
      "source": [
        "print('Top 5 Sorted By Percentage of Showed Appointments: ')\n",
        "display(neighbor.sort_values(by=['No-show%'], ascending=True).head(5))"
      ],
      "execution_count": 140,
      "outputs": [
        {
          "output_type": "stream",
          "text": [
            "Top 5 Sorted By Percentage of Showed Appointments: \n"
          ],
          "name": "stdout"
        },
        {
          "output_type": "display_data",
          "data": {
            "text/html": [
              "<div>\n",
              "<style scoped>\n",
              "    .dataframe tbody tr th:only-of-type {\n",
              "        vertical-align: middle;\n",
              "    }\n",
              "\n",
              "    .dataframe tbody tr th {\n",
              "        vertical-align: top;\n",
              "    }\n",
              "\n",
              "    .dataframe thead th {\n",
              "        text-align: right;\n",
              "    }\n",
              "</style>\n",
              "<table border=\"1\" class=\"dataframe\">\n",
              "  <thead>\n",
              "    <tr style=\"text-align: right;\">\n",
              "      <th>No-show</th>\n",
              "      <th>No</th>\n",
              "      <th>Yes</th>\n",
              "      <th>No-show%</th>\n",
              "      <th>ns%_rank</th>\n",
              "    </tr>\n",
              "    <tr>\n",
              "      <th>Neighbourhood</th>\n",
              "      <th></th>\n",
              "      <th></th>\n",
              "      <th></th>\n",
              "      <th></th>\n",
              "    </tr>\n",
              "  </thead>\n",
              "  <tbody>\n",
              "    <tr>\n",
              "      <th>PARQUE INDUSTRIAL</th>\n",
              "      <td>1</td>\n",
              "      <td>0</td>\n",
              "      <td>0.00</td>\n",
              "      <td>81.0</td>\n",
              "    </tr>\n",
              "    <tr>\n",
              "      <th>ILHA DO BOI</th>\n",
              "      <td>32</td>\n",
              "      <td>3</td>\n",
              "      <td>8.57</td>\n",
              "      <td>80.0</td>\n",
              "    </tr>\n",
              "    <tr>\n",
              "      <th>AEROPORTO</th>\n",
              "      <td>7</td>\n",
              "      <td>1</td>\n",
              "      <td>12.50</td>\n",
              "      <td>79.0</td>\n",
              "    </tr>\n",
              "    <tr>\n",
              "      <th>MÁRIO CYPRESTE</th>\n",
              "      <td>317</td>\n",
              "      <td>54</td>\n",
              "      <td>14.56</td>\n",
              "      <td>78.0</td>\n",
              "    </tr>\n",
              "    <tr>\n",
              "      <th>SOLON BORGES</th>\n",
              "      <td>400</td>\n",
              "      <td>69</td>\n",
              "      <td>14.71</td>\n",
              "      <td>77.0</td>\n",
              "    </tr>\n",
              "  </tbody>\n",
              "</table>\n",
              "</div>"
            ],
            "text/plain": [
              "No-show             No  Yes  No-show%  ns%_rank\n",
              "Neighbourhood                                  \n",
              "PARQUE INDUSTRIAL    1    0      0.00      81.0\n",
              "ILHA DO BOI         32    3      8.57      80.0\n",
              "AEROPORTO            7    1     12.50      79.0\n",
              "MÁRIO CYPRESTE     317   54     14.56      78.0\n",
              "SOLON BORGES       400   69     14.71      77.0"
            ]
          },
          "metadata": {
            "tags": []
          }
        }
      ]
    },
    {
      "cell_type": "markdown",
      "metadata": {
        "id": "aKuBtVi1Ew5u",
        "colab_type": "text"
      },
      "source": [
        "The 5 hospitals with low no-show rate are: PARQUE INDUSTRIAL, ILHA DO BOI, AEROPORTO, MÁRIO CYPRESTE, SOLON BORGES."
      ]
    },
    {
      "cell_type": "markdown",
      "metadata": {
        "id": "XcRL9sVvHEGA",
        "colab_type": "text"
      },
      "source": [
        "## No-show status by disease\n",
        "\n",
        "**Question: Which disease has the highest no-show counts?**"
      ]
    },
    {
      "cell_type": "code",
      "metadata": {
        "id": "KbFu_k5mHHNU",
        "colab_type": "code",
        "colab": {
          "base_uri": "https://localhost:8080/",
          "height": 298
        },
        "outputId": "55694602-a9dd-4f51-aefd-cdf4fb4bca33"
      },
      "source": [
        "synthon = ['Hipertension', 'Diabetes', 'Alcoholism',\t'Handcap']\n",
        "\n",
        "fig, axes = plt.subplots(1, 4, figsize=(14, 4))\n",
        "\n",
        "for i, feature in enumerate(synthon):\n",
        "\n",
        "  grouping = noshow.groupby(feature)['No-show'].value_counts(normalize=True).unstack()\n",
        "  sns.barplot(x=grouping.index, y=grouping['Yes'], ax=axes[i])\n",
        "  axes[i].set(title='No-show Rate by ' + feature + ' type')\n",
        "\n",
        "plt.tight_layout(True)\n",
        "save_fig('No-show_Rate_by_Disease')"
      ],
      "execution_count": 156,
      "outputs": [
        {
          "output_type": "display_data",
          "data": {
            "image/png": "[encoded data removed]",
            "text/plain": [
              "<Figure size 1008x288 with 4 Axes>"
            ]
          },
          "metadata": {
            "tags": [],
            "needs_background": "light"
          }
        }
      ]
    },
    {
      "cell_type": "code",
      "metadata": {
        "id": "GUWZmdbEI0v1",
        "colab_type": "code",
        "colab": {
          "base_uri": "https://localhost:8080/",
          "height": 123
        },
        "outputId": "37aa4dac-6214-41f7-fa20-a96c66f72180"
      },
      "source": [
        "noshow['Handcap'].value_counts()"
      ],
      "execution_count": 157,
      "outputs": [
        {
          "output_type": "execute_result",
          "data": {
            "text/plain": [
              "0    108283\n",
              "1      2040\n",
              "2       183\n",
              "3        13\n",
              "4         3\n",
              "Name: Handcap, dtype: int64"
            ]
          },
          "metadata": {
            "tags": []
          },
          "execution_count": 157
        }
      ]
    },
    {
      "cell_type": "markdown",
      "metadata": {
        "id": "xkajMHwKIydE",
        "colab_type": "text"
      },
      "source": [
        "Patients who have 'Hipertension' or 'Diabetes' have lower no-show rate than those don't. 'Alcoholism' appears to have no effect on no-show prediction being equally possible on the outcome. In addition, patiens with type 2, 3, 4 handcap are seemed to have no-show rate greater than 20%, higher than the average population no-show rate at 19.76%."
      ]
    },
    {
      "cell_type": "markdown",
      "metadata": {
        "id": "Km9lOnHPLxjP",
        "colab_type": "text"
      },
      "source": [
        "## No-show status by sms\n",
        "\n",
        "**Question: Does the usage of sms reminder help to lower no-show percentage in general?**"
      ]
    },
    {
      "cell_type": "code",
      "metadata": {
        "id": "ncGmq6FCM138",
        "colab_type": "code",
        "colab": {
          "base_uri": "https://localhost:8080/",
          "height": 137
        },
        "outputId": "20a72cb4-dae7-4010-dffd-49f9898ecef4"
      },
      "source": [
        "grouping = noshow.groupby('SMS_received')['No-show'].value_counts(normalize='columns').unstack()\n",
        "grouping"
      ],
      "execution_count": 165,
      "outputs": [
        {
          "output_type": "execute_result",
          "data": {
            "text/html": [
              "<div>\n",
              "<style scoped>\n",
              "    .dataframe tbody tr th:only-of-type {\n",
              "        vertical-align: middle;\n",
              "    }\n",
              "\n",
              "    .dataframe tbody tr th {\n",
              "        vertical-align: top;\n",
              "    }\n",
              "\n",
              "    .dataframe thead th {\n",
              "        text-align: right;\n",
              "    }\n",
              "</style>\n",
              "<table border=\"1\" class=\"dataframe\">\n",
              "  <thead>\n",
              "    <tr style=\"text-align: right;\">\n",
              "      <th>No-show</th>\n",
              "      <th>No</th>\n",
              "      <th>Yes</th>\n",
              "    </tr>\n",
              "    <tr>\n",
              "      <th>SMS_received</th>\n",
              "      <th></th>\n",
              "      <th></th>\n",
              "    </tr>\n",
              "  </thead>\n",
              "  <tbody>\n",
              "    <tr>\n",
              "      <th>0</th>\n",
              "      <td>0.833022</td>\n",
              "      <td>0.166978</td>\n",
              "    </tr>\n",
              "    <tr>\n",
              "      <th>1</th>\n",
              "      <td>0.724255</td>\n",
              "      <td>0.275745</td>\n",
              "    </tr>\n",
              "  </tbody>\n",
              "</table>\n",
              "</div>"
            ],
            "text/plain": [
              "No-show             No       Yes\n",
              "SMS_received                    \n",
              "0             0.833022  0.166978\n",
              "1             0.724255  0.275745"
            ]
          },
          "metadata": {
            "tags": []
          },
          "execution_count": 165
        }
      ]
    },
    {
      "cell_type": "code",
      "metadata": {
        "id": "gvFbygwHL1lr",
        "colab_type": "code",
        "colab": {
          "base_uri": "https://localhost:8080/",
          "height": 401
        },
        "outputId": "ab0931d0-0e49-4f7e-9b76-654ee4b02083"
      },
      "source": [
        "ax = grouping.plot(kind='bar', figsize=(8, 6))\n",
        "ax.set(title='No-Show by SMS Received', ylabel='No-show Portion')\n",
        "save_fig('No-Show_by_SMS_Received')"
      ],
      "execution_count": 169,
      "outputs": [
        {
          "output_type": "display_data",
          "data": {
            "image/png": "[encoded data removed]",
            "text/plain": [
              "<Figure size 576x432 with 1 Axes>"
            ]
          },
          "metadata": {
            "tags": [],
            "needs_background": "light"
          }
        }
      ]
    },
    {
      "cell_type": "markdown",
      "metadata": {
        "id": "tdtrv8UANf-J",
        "colab_type": "text"
      },
      "source": [
        "The table and barplots show patients who received sms turned out to have about 30% no-show, while this number was less than 20%. This outcome is quite shocking, because we assumed if patients who are reminded of the appointments should be more likely to turn up for the appointment. Apparently this was not the case. Possible reason is that if patients sign up for sms reminder, they are more likely to depend on the sms, hence not taking responsiblity to remind themselves diligently to attend the appointment."
      ]
    },
    {
      "cell_type": "markdown",
      "metadata": {
        "id": "qmHSAN5BSn_n",
        "colab_type": "text"
      },
      "source": [
        "# Conclusion\n",
        "\n",
        "In this project, I analyzed the no-show status in different scopes, including waiting time, neighborhood, scholarship disease, and sms. In summary, long waiting-time, presence of scholarship, and use of sms service are seemingly destructive to the appoitment attention rate. We also identified the top 5 hospital locations that have the highest no-show rate and the top 5 hospital locations that have no-show rate much lower than average population."
      ]
    }
  ]
}